{
  "nbformat": 4,
  "nbformat_minor": 0,
  "metadata": {
    "colab": {
      "provenance": []
    },
    "kernelspec": {
      "name": "python3",
      "display_name": "Python 3"
    },
    "language_info": {
      "name": "python"
    }
  },
  "cells": [
    {
      "cell_type": "markdown",
      "source": [
        "<div align=\"right\">\n",
        "  <img src=\"https://drive.google.com/uc?export=view&id=1J8JpP65HsHXdpJvhb_sMwn3yROyU832m\" height=\"80\" width=\"200\" style=\"float: right;\">\n",
        "</div>\n",
        "<h1><b>Data Science and Machine Learning</b></h1>\n",
        "<h2><b>Clase 17</b>: Introducción Machine Learning</h2>\n",
        "<h3><b>Docente</b>: <a href=\"https://www.linkedin.com/in/danielablanco/\">Daniela Blanco</a>"
      ],
      "metadata": {
        "id": "Wp4cyu16yiif"
      }
    },
    {
      "cell_type": "markdown",
      "source": [
        "# Contenido\n",
        "\n",
        "- [1. ¿Qué era Machine learning?](#ml)\n",
        "- [2. Tipos de aprendizaje](#aprendizajes)\n",
        "- [3. Conjunto de datos](#aprendizajes)\n",
        "- [4. Sobreajuste (overfiting) vs subajuste (underfiting)](#overfiting)\n",
        "- [5. Métricas](#metricas)\n",
        "- [6. Optimización de hiperparámetros](#hiperparametros)\n",
        "- [7. Regresión logística](#logistica)\n",
        "- [8. Links de interés](#links)\n"
      ],
      "metadata": {
        "id": "XEmijBfl2b_I"
      }
    },
    {
      "cell_type": "code",
      "source": [
        "import pandas as pd\n",
        "import numpy as np\n",
        "\n",
        "import matplotlib.pyplot as plt\n",
        "import seaborn as sns\n",
        "\n",
        "from sklearn.model_selection import train_test_split\n",
        "from sklearn.linear_model import LogisticRegression\n",
        "\n",
        "from sklearn.metrics import accuracy_score\n",
        "from sklearn.metrics import confusion_matrix\n",
        "\n",
        "from sklearn.model_selection import GridSearchCV\n",
        "from sklearn.model_selection import RandomizedSearchCV\n"
      ],
      "metadata": {
        "id": "cPtXYusox8X4"
      },
      "execution_count": 1,
      "outputs": []
    },
    {
      "cell_type": "markdown",
      "source": [
        "## 1. ¿Qué era Machine learning? <a name=\"ml\"></a>"
      ],
      "metadata": {
        "id": "Pw6lT_8L3Bny"
      }
    },
    {
      "cell_type": "markdown",
      "source": [
        "<img src=\"https://drive.google.com/uc?export=view&id=1IhHLl43r4akkFGJ7NRqFd8BqsG3kpnOZ\" height=\"198\" width=\"634\" style=\"float: center;\">"
      ],
      "metadata": {
        "id": "XlGxqok8qZon"
      }
    },
    {
      "cell_type": "markdown",
      "source": [
        "El Aprendizaje Automático (Machine learning) es una rama de la Inteligencia Artificial que se centra en la construcción de sistemas que pueden aprender de los datos, en lugar de seguir solo reglas programadas explícitamente.\n",
        "\n",
        "Por ejemplo, un modelo de Machine Learning podría ser entrenado para reconocer gatos al proporcionarle miles de imágenes con y sin gatos.\n",
        "\n",
        "Con suficientes ejemplos, el sistema \"aprende\" a distinguir las características que definen a un gato, así podría identificarlos en nuevas imágenes que nunca antes había visto."
      ],
      "metadata": {
        "id": "MrE2Gc3Ygk8X"
      }
    },
    {
      "cell_type": "markdown",
      "source": [
        "<img src=\"https://drive.google.com/uc?export=view&id=1syOzOeMPk3NN-X6xy7LaS-6XpSBtRFl1\" height=\"143\" width=\"994\" style=\"float: center;\">"
      ],
      "metadata": {
        "id": "r4PQ6VCun-6J"
      }
    },
    {
      "cell_type": "markdown",
      "source": [
        "## Tipos de aprendizaje <a name=\"aprendizajes\"></a>"
      ],
      "metadata": {
        "id": "aTAT7UQEfOoH"
      }
    },
    {
      "cell_type": "markdown",
      "source": [
        "Existen varios tipos de aprendizajes basados en la forma en que el algoritmo aprende a partir de los datos."
      ],
      "metadata": {
        "id": "24i5xw76k6kl"
      }
    },
    {
      "cell_type": "markdown",
      "source": [
        "###Aprendizaje supervisado (Supervised Learning)\n",
        "\n",
        "El modelo se entrena con un conjunto de datos etiquetados, lo que significa que cada ejemplo de entrenamiento está asociado con una etiqueta o salida deseada (objetivo).\n",
        "\n",
        "Hay dos tipos de problemas supervisados:\n",
        "\n",
        "- **Regresión** (*regression*). Cuando la etiqueta o el valor objetivo es un número continuo (como el precio de una casa), el problema se considera un problema de regresión. El modelo debe devolver un número en una escala infinita.\n",
        "\n",
        "- **Clasificación** (*classification*). Cuando la etiqueta es categórica (como predecir si un correo es spam o no), el problema es de clasificación. El modelo debe devolver una etiqueta según se corresponda a una clase u otra.\n",
        "\n",
        "**Ejemplos de algoritmos**: regresión lineal, regresión logística, máquinas de soporte vectorial (SVM), redes neuronales, árboles de decisión.\n",
        "\n",
        "**Ejemplos de aplicaciones**: clasificación de correos electrónicos como spam o no spam, predicción de precios de viviendas."
      ],
      "metadata": {
        "id": "SkeUZSaSxghR"
      }
    },
    {
      "cell_type": "markdown",
      "source": [
        "###Aprendizaje no Supervisado (unsupervised Learning)\n",
        "\n",
        "Los modelos se entrenan usando un conjunto de datos sin etiquetas.\n",
        "\n",
        "En este tipo de aprendizaje, el objetivo es encontrar patrones o estructuras ocultas en los datos.\n",
        "\n",
        "Puesto que en este tipo de aprendizaje no hay etiquetas, los modelos deben descubrir por sí mismos las relaciones en los datos.\n",
        "\n",
        "**Ejemplos de algoritmos**: k-means, clustering jerárquico, análisis de componentes principales (PCA), redes neuronales autoencodificadoras.\n",
        "\n",
        "**Ejemplos de aplicaciones**: segmentación de clientes, reducción de dimensionalidad."
      ],
      "metadata": {
        "id": "s6Ix3KqAxp-B"
      }
    },
    {
      "cell_type": "markdown",
      "source": [
        "###Aprendizaje por refuerzo (reinforcement Learning)\n",
        "\n",
        "En este aprendizaje el modelo (también llamado agente) aprende a tomar decisiones óptimas a través de la interacción con su entorno.\n",
        "\n",
        "El objetivo es maximizar alguna noción de recompensa acumulativa.\n",
        "\n",
        "En el aprendizaje por refuerzo, el agente toma acciones, las cuales afectan el estado del ambiente, y recibe retroalimentación en forma de recompensas o penalizaciones.\n",
        "\n",
        "La meta es aprender una estrategia para maximizar su recompensa a largo plazo.\n",
        "\n",
        "Un ejemplo de este tipo de aprendizaje es un programa que aprenda a jugar al ajedrez. El agente (el programa) decide qué movimiento hacer (las acciones de mover ficha) en diferentes posiciones del tablero de ajedrez (los estados) para maximizar la posibilidad de ganar el juego (la recompensa).\n",
        "\n",
        "El aprendizaje por refuerzo está centrado en tomar decisiones óptimas y aprender a partir de la retroalimentación de esas decisiones.\n",
        "\n",
        "**Ejemplos de algoritmos**: Q-learning, SARSA, aprendizaje profundo por refuerzo (Deep Q-Networks).\n",
        "\n",
        "**Ejemplos de aplicaciones**: juegos (como AlphaGo), robótica, conducción autónoma."
      ],
      "metadata": {
        "id": "LC1WgZEryEdZ"
      }
    },
    {
      "cell_type": "markdown",
      "source": [
        "###Aprendizaje semi supervisado (semi supervised Learning)\n",
        "\n",
        "Combina una pequeña cantidad de datos etiquetados con una gran cantidad de datos no etiquetados durante el entrenamiento.\n",
        "\n",
        "Útil cuando etiquetar datos es costoso o difícil, pero se dispone de una gran cantidad de datos no etiquetados."
      ],
      "metadata": {
        "id": "cohfa9piypx_"
      }
    },
    {
      "cell_type": "markdown",
      "source": [
        "<img src=\"https://drive.google.com/uc?export=view&id=1DOaLFzqfrbOisOGYGmOgcm3KQIbvf30G\" height=\"364\" width=\"918\" style=\"float: center;\">"
      ],
      "metadata": {
        "id": "DJpBT6YDBy89"
      }
    },
    {
      "cell_type": "markdown",
      "source": [
        "Tambien podemos ampliar a otras clasificaciones como aprendizaje por transferencia (transfer learning) o profundo (deep learning).\n",
        "\n",
        "Por transferencia aprovecha un modelo previamente entrenado en una tarea específica y lo adapta a una nueva tarea relacionada. Ejemplos de aplicaciones: reconocimiento de imágenes, procesamiento del lenguaje natural (NLP).\n",
        "\n",
        "Deep learning será subcampo del aprendizaje supervisado y no supervisado que utiliza redes neuronales artificiales con muchas capas (redes neuronales profundas). Ejemplos de aplicaciones: reconocimiento de voz, traducción automática, generación de imágenes."
      ],
      "metadata": {
        "id": "x3fu4GZoBr31"
      }
    },
    {
      "cell_type": "markdown",
      "source": [
        "### Ejemplo Supervisado - Clasificación\n",
        "\n",
        "<img src=\"https://drive.google.com/uc?export=view&id=1-JhFdwVmsT2cox5byAgvaCCJtUsRCrPw\" height=\"400\" width=\"780\" style=\"float: center;\">"
      ],
      "metadata": {
        "id": "frIiIXTH0_FF"
      }
    },
    {
      "cell_type": "markdown",
      "source": [
        "### Ejemplo Supervisado - Regresión\n",
        "\n",
        "<img src=\"https://drive.google.com/uc?export=view&id=17JX1bYf8iInkw-t0lnK-l550kOV71Qyz\" height=\"450\" width=\"580\" style=\"float: center;\">"
      ],
      "metadata": {
        "id": "7KIznl1Z16QT"
      }
    },
    {
      "cell_type": "markdown",
      "source": [
        "## 3. Conjunto de datos <a name=\"aprendizajes\"></a>"
      ],
      "metadata": {
        "id": "PUGVrKIU1xED"
      }
    },
    {
      "cell_type": "markdown",
      "source": [
        "Un conjunto de datos es una colección que normalmente se representa en forma de tabla. En esta tabla, cada fila representa una observación o instancia y cada columna representa una característica, atributo o variable de esa observación.\n",
        "\n",
        "Este conjunto de datos es utilizado para entrenar y evaluar modelos.\n",
        "\n",
        "**Entrenamiento del modelo**. Un modelo de Machine Learning aprende a partir de un conjunto de datos de entrenamiento. El modelo entrena ajustando sus parámetros internamente.\n",
        "\n",
        "**Evaluación del modelo**. Una vez que el modelo ha sido entrenado, se utiliza un conjunto de datos de prueba independiente para evaluar su rendimiento. Este dataset contiene observaciones que no se utilizaron durante el entrenamiento, lo que permite obtener una evaluación imparcial de cómo se espera que el modelo realice predicciones sobre nuevos datos.\n",
        "\n",
        "En algunas situaciones, también se utiliza un conjunto de validación, que se utiliza para evaluar el rendimiento de un modelo durante el entrenamiento. Una vez que se entrenan los modelos, se evalúan en el conjunto de validación para seleccionar el mejor modelo posible."
      ],
      "metadata": {
        "id": "_rXr72LT0M2p"
      }
    },
    {
      "cell_type": "markdown",
      "source": [
        "### Split de datos\n",
        "\n",
        "El paso previo de entrenar un modelo, además del EDA, es dividir los datos en un conjunto de entrenamiento (train dataset) y un conjunto de prueba (test dataset).\n",
        "\n",
        "Seleccionaremos aleatoriamente un 80% (puede variar) de las filas y las colocaremos en el conjunto de entrenamiento y el 20% restante en el conjunto de prueba.\n",
        "\n",
        "Entrena el modelo usando el conjunto de entrenamiento (X_train, y_train).\n",
        "\n",
        "Prueba el modelo usando el conjunto de prueba (X_test, y_test)."
      ],
      "metadata": {
        "id": "i72XfcYk3Sjj"
      }
    },
    {
      "cell_type": "markdown",
      "source": [
        "<img src=\"https://drive.google.com/uc?export=view&id=1w16lin1hOU_wlPZd9DSPJXxxkJZsznij\" height=\"250\" width=\"846\" style=\"float: center;\">"
      ],
      "metadata": {
        "id": "98Fmq9x6-o07"
      }
    },
    {
      "cell_type": "code",
      "source": [
        "# Cargamos el conjunto de datos\n",
        "total_data = sns.load_dataset(\"attention\")\n",
        "\n",
        "total_data.head()"
      ],
      "metadata": {
        "id": "_p6krQ790Owx",
        "colab": {
          "base_uri": "https://localhost:8080/",
          "height": 206
        },
        "outputId": "eeff65d5-badf-4a51-877e-99ee38e80142"
      },
      "execution_count": 2,
      "outputs": [
        {
          "output_type": "execute_result",
          "data": {
            "text/plain": [
              "   Unnamed: 0  subject attention  solutions  score\n",
              "0           0        1   divided          1    2.0\n",
              "1           1        2   divided          1    3.0\n",
              "2           2        3   divided          1    3.0\n",
              "3           3        4   divided          1    5.0\n",
              "4           4        5   divided          1    4.0"
            ],
            "text/html": [
              "\n",
              "  <div id=\"df-dfd4a8b2-e010-4153-88d3-527874d2ea0b\" class=\"colab-df-container\">\n",
              "    <div>\n",
              "<style scoped>\n",
              "    .dataframe tbody tr th:only-of-type {\n",
              "        vertical-align: middle;\n",
              "    }\n",
              "\n",
              "    .dataframe tbody tr th {\n",
              "        vertical-align: top;\n",
              "    }\n",
              "\n",
              "    .dataframe thead th {\n",
              "        text-align: right;\n",
              "    }\n",
              "</style>\n",
              "<table border=\"1\" class=\"dataframe\">\n",
              "  <thead>\n",
              "    <tr style=\"text-align: right;\">\n",
              "      <th></th>\n",
              "      <th>Unnamed: 0</th>\n",
              "      <th>subject</th>\n",
              "      <th>attention</th>\n",
              "      <th>solutions</th>\n",
              "      <th>score</th>\n",
              "    </tr>\n",
              "  </thead>\n",
              "  <tbody>\n",
              "    <tr>\n",
              "      <th>0</th>\n",
              "      <td>0</td>\n",
              "      <td>1</td>\n",
              "      <td>divided</td>\n",
              "      <td>1</td>\n",
              "      <td>2.0</td>\n",
              "    </tr>\n",
              "    <tr>\n",
              "      <th>1</th>\n",
              "      <td>1</td>\n",
              "      <td>2</td>\n",
              "      <td>divided</td>\n",
              "      <td>1</td>\n",
              "      <td>3.0</td>\n",
              "    </tr>\n",
              "    <tr>\n",
              "      <th>2</th>\n",
              "      <td>2</td>\n",
              "      <td>3</td>\n",
              "      <td>divided</td>\n",
              "      <td>1</td>\n",
              "      <td>3.0</td>\n",
              "    </tr>\n",
              "    <tr>\n",
              "      <th>3</th>\n",
              "      <td>3</td>\n",
              "      <td>4</td>\n",
              "      <td>divided</td>\n",
              "      <td>1</td>\n",
              "      <td>5.0</td>\n",
              "    </tr>\n",
              "    <tr>\n",
              "      <th>4</th>\n",
              "      <td>4</td>\n",
              "      <td>5</td>\n",
              "      <td>divided</td>\n",
              "      <td>1</td>\n",
              "      <td>4.0</td>\n",
              "    </tr>\n",
              "  </tbody>\n",
              "</table>\n",
              "</div>\n",
              "    <div class=\"colab-df-buttons\">\n",
              "\n",
              "  <div class=\"colab-df-container\">\n",
              "    <button class=\"colab-df-convert\" onclick=\"convertToInteractive('df-dfd4a8b2-e010-4153-88d3-527874d2ea0b')\"\n",
              "            title=\"Convert this dataframe to an interactive table.\"\n",
              "            style=\"display:none;\">\n",
              "\n",
              "  <svg xmlns=\"http://www.w3.org/2000/svg\" height=\"24px\" viewBox=\"0 -960 960 960\">\n",
              "    <path d=\"M120-120v-720h720v720H120Zm60-500h600v-160H180v160Zm220 220h160v-160H400v160Zm0 220h160v-160H400v160ZM180-400h160v-160H180v160Zm440 0h160v-160H620v160ZM180-180h160v-160H180v160Zm440 0h160v-160H620v160Z\"/>\n",
              "  </svg>\n",
              "    </button>\n",
              "\n",
              "  <style>\n",
              "    .colab-df-container {\n",
              "      display:flex;\n",
              "      gap: 12px;\n",
              "    }\n",
              "\n",
              "    .colab-df-convert {\n",
              "      background-color: #E8F0FE;\n",
              "      border: none;\n",
              "      border-radius: 50%;\n",
              "      cursor: pointer;\n",
              "      display: none;\n",
              "      fill: #1967D2;\n",
              "      height: 32px;\n",
              "      padding: 0 0 0 0;\n",
              "      width: 32px;\n",
              "    }\n",
              "\n",
              "    .colab-df-convert:hover {\n",
              "      background-color: #E2EBFA;\n",
              "      box-shadow: 0px 1px 2px rgba(60, 64, 67, 0.3), 0px 1px 3px 1px rgba(60, 64, 67, 0.15);\n",
              "      fill: #174EA6;\n",
              "    }\n",
              "\n",
              "    .colab-df-buttons div {\n",
              "      margin-bottom: 4px;\n",
              "    }\n",
              "\n",
              "    [theme=dark] .colab-df-convert {\n",
              "      background-color: #3B4455;\n",
              "      fill: #D2E3FC;\n",
              "    }\n",
              "\n",
              "    [theme=dark] .colab-df-convert:hover {\n",
              "      background-color: #434B5C;\n",
              "      box-shadow: 0px 1px 3px 1px rgba(0, 0, 0, 0.15);\n",
              "      filter: drop-shadow(0px 1px 2px rgba(0, 0, 0, 0.3));\n",
              "      fill: #FFFFFF;\n",
              "    }\n",
              "  </style>\n",
              "\n",
              "    <script>\n",
              "      const buttonEl =\n",
              "        document.querySelector('#df-dfd4a8b2-e010-4153-88d3-527874d2ea0b button.colab-df-convert');\n",
              "      buttonEl.style.display =\n",
              "        google.colab.kernel.accessAllowed ? 'block' : 'none';\n",
              "\n",
              "      async function convertToInteractive(key) {\n",
              "        const element = document.querySelector('#df-dfd4a8b2-e010-4153-88d3-527874d2ea0b');\n",
              "        const dataTable =\n",
              "          await google.colab.kernel.invokeFunction('convertToInteractive',\n",
              "                                                    [key], {});\n",
              "        if (!dataTable) return;\n",
              "\n",
              "        const docLinkHtml = 'Like what you see? Visit the ' +\n",
              "          '<a target=\"_blank\" href=https://colab.research.google.com/notebooks/data_table.ipynb>data table notebook</a>'\n",
              "          + ' to learn more about interactive tables.';\n",
              "        element.innerHTML = '';\n",
              "        dataTable['output_type'] = 'display_data';\n",
              "        await google.colab.output.renderOutput(dataTable, element);\n",
              "        const docLink = document.createElement('div');\n",
              "        docLink.innerHTML = docLinkHtml;\n",
              "        element.appendChild(docLink);\n",
              "      }\n",
              "    </script>\n",
              "  </div>\n",
              "\n",
              "\n",
              "<div id=\"df-17338a36-8070-4e87-9221-f7130a32e133\">\n",
              "  <button class=\"colab-df-quickchart\" onclick=\"quickchart('df-17338a36-8070-4e87-9221-f7130a32e133')\"\n",
              "            title=\"Suggest charts\"\n",
              "            style=\"display:none;\">\n",
              "\n",
              "<svg xmlns=\"http://www.w3.org/2000/svg\" height=\"24px\"viewBox=\"0 0 24 24\"\n",
              "     width=\"24px\">\n",
              "    <g>\n",
              "        <path d=\"M19 3H5c-1.1 0-2 .9-2 2v14c0 1.1.9 2 2 2h14c1.1 0 2-.9 2-2V5c0-1.1-.9-2-2-2zM9 17H7v-7h2v7zm4 0h-2V7h2v10zm4 0h-2v-4h2v4z\"/>\n",
              "    </g>\n",
              "</svg>\n",
              "  </button>\n",
              "\n",
              "<style>\n",
              "  .colab-df-quickchart {\n",
              "      --bg-color: #E8F0FE;\n",
              "      --fill-color: #1967D2;\n",
              "      --hover-bg-color: #E2EBFA;\n",
              "      --hover-fill-color: #174EA6;\n",
              "      --disabled-fill-color: #AAA;\n",
              "      --disabled-bg-color: #DDD;\n",
              "  }\n",
              "\n",
              "  [theme=dark] .colab-df-quickchart {\n",
              "      --bg-color: #3B4455;\n",
              "      --fill-color: #D2E3FC;\n",
              "      --hover-bg-color: #434B5C;\n",
              "      --hover-fill-color: #FFFFFF;\n",
              "      --disabled-bg-color: #3B4455;\n",
              "      --disabled-fill-color: #666;\n",
              "  }\n",
              "\n",
              "  .colab-df-quickchart {\n",
              "    background-color: var(--bg-color);\n",
              "    border: none;\n",
              "    border-radius: 50%;\n",
              "    cursor: pointer;\n",
              "    display: none;\n",
              "    fill: var(--fill-color);\n",
              "    height: 32px;\n",
              "    padding: 0;\n",
              "    width: 32px;\n",
              "  }\n",
              "\n",
              "  .colab-df-quickchart:hover {\n",
              "    background-color: var(--hover-bg-color);\n",
              "    box-shadow: 0 1px 2px rgba(60, 64, 67, 0.3), 0 1px 3px 1px rgba(60, 64, 67, 0.15);\n",
              "    fill: var(--button-hover-fill-color);\n",
              "  }\n",
              "\n",
              "  .colab-df-quickchart-complete:disabled,\n",
              "  .colab-df-quickchart-complete:disabled:hover {\n",
              "    background-color: var(--disabled-bg-color);\n",
              "    fill: var(--disabled-fill-color);\n",
              "    box-shadow: none;\n",
              "  }\n",
              "\n",
              "  .colab-df-spinner {\n",
              "    border: 2px solid var(--fill-color);\n",
              "    border-color: transparent;\n",
              "    border-bottom-color: var(--fill-color);\n",
              "    animation:\n",
              "      spin 1s steps(1) infinite;\n",
              "  }\n",
              "\n",
              "  @keyframes spin {\n",
              "    0% {\n",
              "      border-color: transparent;\n",
              "      border-bottom-color: var(--fill-color);\n",
              "      border-left-color: var(--fill-color);\n",
              "    }\n",
              "    20% {\n",
              "      border-color: transparent;\n",
              "      border-left-color: var(--fill-color);\n",
              "      border-top-color: var(--fill-color);\n",
              "    }\n",
              "    30% {\n",
              "      border-color: transparent;\n",
              "      border-left-color: var(--fill-color);\n",
              "      border-top-color: var(--fill-color);\n",
              "      border-right-color: var(--fill-color);\n",
              "    }\n",
              "    40% {\n",
              "      border-color: transparent;\n",
              "      border-right-color: var(--fill-color);\n",
              "      border-top-color: var(--fill-color);\n",
              "    }\n",
              "    60% {\n",
              "      border-color: transparent;\n",
              "      border-right-color: var(--fill-color);\n",
              "    }\n",
              "    80% {\n",
              "      border-color: transparent;\n",
              "      border-right-color: var(--fill-color);\n",
              "      border-bottom-color: var(--fill-color);\n",
              "    }\n",
              "    90% {\n",
              "      border-color: transparent;\n",
              "      border-bottom-color: var(--fill-color);\n",
              "    }\n",
              "  }\n",
              "</style>\n",
              "\n",
              "  <script>\n",
              "    async function quickchart(key) {\n",
              "      const quickchartButtonEl =\n",
              "        document.querySelector('#' + key + ' button');\n",
              "      quickchartButtonEl.disabled = true;  // To prevent multiple clicks.\n",
              "      quickchartButtonEl.classList.add('colab-df-spinner');\n",
              "      try {\n",
              "        const charts = await google.colab.kernel.invokeFunction(\n",
              "            'suggestCharts', [key], {});\n",
              "      } catch (error) {\n",
              "        console.error('Error during call to suggestCharts:', error);\n",
              "      }\n",
              "      quickchartButtonEl.classList.remove('colab-df-spinner');\n",
              "      quickchartButtonEl.classList.add('colab-df-quickchart-complete');\n",
              "    }\n",
              "    (() => {\n",
              "      let quickchartButtonEl =\n",
              "        document.querySelector('#df-17338a36-8070-4e87-9221-f7130a32e133 button');\n",
              "      quickchartButtonEl.style.display =\n",
              "        google.colab.kernel.accessAllowed ? 'block' : 'none';\n",
              "    })();\n",
              "  </script>\n",
              "</div>\n",
              "\n",
              "    </div>\n",
              "  </div>\n"
            ],
            "application/vnd.google.colaboratory.intrinsic+json": {
              "type": "dataframe",
              "variable_name": "total_data",
              "summary": "{\n  \"name\": \"total_data\",\n  \"rows\": 60,\n  \"fields\": [\n    {\n      \"column\": \"Unnamed: 0\",\n      \"properties\": {\n        \"dtype\": \"number\",\n        \"std\": 17,\n        \"min\": 0,\n        \"max\": 59,\n        \"num_unique_values\": 60,\n        \"samples\": [\n          0,\n          5,\n          36\n        ],\n        \"semantic_type\": \"\",\n        \"description\": \"\"\n      }\n    },\n    {\n      \"column\": \"subject\",\n      \"properties\": {\n        \"dtype\": \"number\",\n        \"std\": 5,\n        \"min\": 1,\n        \"max\": 20,\n        \"num_unique_values\": 20,\n        \"samples\": [\n          1,\n          18,\n          16\n        ],\n        \"semantic_type\": \"\",\n        \"description\": \"\"\n      }\n    },\n    {\n      \"column\": \"attention\",\n      \"properties\": {\n        \"dtype\": \"category\",\n        \"num_unique_values\": 2,\n        \"samples\": [\n          \"focused\",\n          \"divided\"\n        ],\n        \"semantic_type\": \"\",\n        \"description\": \"\"\n      }\n    },\n    {\n      \"column\": \"solutions\",\n      \"properties\": {\n        \"dtype\": \"number\",\n        \"std\": 0,\n        \"min\": 1,\n        \"max\": 3,\n        \"num_unique_values\": 3,\n        \"samples\": [\n          1,\n          2\n        ],\n        \"semantic_type\": \"\",\n        \"description\": \"\"\n      }\n    },\n    {\n      \"column\": \"score\",\n      \"properties\": {\n        \"dtype\": \"number\",\n        \"std\": 1.62160118262174,\n        \"min\": 2.0,\n        \"max\": 9.0,\n        \"num_unique_values\": 9,\n        \"samples\": [\n          4.5,\n          3.0\n        ],\n        \"semantic_type\": \"\",\n        \"description\": \"\"\n      }\n    }\n  ]\n}"
            }
          },
          "metadata": {},
          "execution_count": 2
        }
      ]
    },
    {
      "cell_type": "code",
      "source": [
        "features = [\"subject\", \"attention\", \"solutions\"]\n",
        "target = \"score\"\n",
        "\n",
        "# Separamos las predictoras de la etiqueta\n",
        "X = total_data[features]\n",
        "y = total_data[target]\n",
        "\n",
        "# Dividimos la muestra en train y test al 80%\n",
        "X_train, X_test, y_train, y_test = train_test_split(X, y, random_state = 16, train_size = 0.80)"
      ],
      "metadata": {
        "id": "2bGdiYZ60TIZ"
      },
      "execution_count": 3,
      "outputs": []
    },
    {
      "cell_type": "markdown",
      "source": [
        "## 4. Sobreajuste (overfiting) vs subajuste (underfiting) <a name=\"overfiting\"></a>"
      ],
      "metadata": {
        "id": "1qUHhmtA0seB"
      }
    },
    {
      "cell_type": "markdown",
      "source": [
        "Se pueden dar diversos escenarios relacionados con el rendimiento de un modelo."
      ],
      "metadata": {
        "id": "K_vsW9l_0w3q"
      }
    },
    {
      "cell_type": "markdown",
      "source": [
        "<img src=\"https://drive.google.com/uc?export=view&id=1QNYn3gEE8E0EHd0rvUXCJ-fiuF-16bDF\" height=\"257\" width=\"522\" style=\"float: center;\">"
      ],
      "metadata": {
        "id": "uScee0zrAkSQ"
      }
    },
    {
      "cell_type": "markdown",
      "source": [
        "**Sobreajuste (overfiting)**\n",
        "\n",
        "Un modelo aprende demasiado bien los detalles y el ruido de los datos de entrenamiento, en lugar de aprender los patrones subyacentes que son realmente útiles para predecir datos nuevos.\n",
        "\n",
        "Esto hace que el modelo funcione extremadamente bien en los datos de entrenamiento, pero falle al generalizar y predecir correctamente en datos no vistos (datos de prueba o datos nuevos).\n",
        "\n",
        "Indicadores de overfiting:\n",
        "- Alto rendimiento en train y bajo en test.\n",
        "- Grandes diferencias entre el error de train y test.\n",
        "- Usando validaciones cruzadas sigue dando sobreajuste.\n",
        "\n",
        "Posibles causas:\n",
        "- Modelo demasiado complejo para el problema.\n",
        "- Datos insuficientes para entrenar.\n",
        "- Ruido en los datos.\n",
        "\n",
        "Técnicas para prevenir:\n",
        "- Usar bien el split de datos.\n",
        "- Validazión cruzdaa.\n",
        "- Reducir la complejidad del modelo. Por ejemplo: con regularización.\n",
        "- Aumentar la cantidad de datos.\n",
        "- Usar métodos de ensamble.\n"
      ],
      "metadata": {
        "id": "m4_jckf015_R"
      }
    },
    {
      "cell_type": "markdown",
      "source": [
        "**Subajuste (underfiting)**\n",
        "\n",
        "Ocurre cuando un modelo es demasiado simple para capturar la estructura subyacente de los datos.\n",
        "\n",
        "Esto resulta en un bajo rendimiento tanto en el conjunto de entrenamiento como en el de prueba.\n",
        "\n",
        "Indicadores de underfiting:\n",
        "- Bajo rendimiento en train y test.\n",
        "\n",
        "Posibles causas:\n",
        "- Modelo demasiado simple para el problema.\n",
        "- Datos insuficientes para entrenar.\n",
        "- Faltas de carácteristicas relevantes en los datos para el objetivo.\n",
        "\n",
        "Técnicas para prevenir:\n",
        "- Aumentar la complejidad del modelo.\n",
        "- Añadir carácterísticas relevantes.\n",
        "- Aumentar la cantidad de datos."
      ],
      "metadata": {
        "id": "MFc5U8RX2RlV"
      }
    },
    {
      "cell_type": "markdown",
      "source": [
        "**Ajuste justo (good fit)**\n",
        "\n",
        "Este es el escenario ideal donde el modelo generaliza bien tanto en los datos de entrenamiento como en los datos de prueba.\n",
        "\n",
        "El modelo ha aprendido los patrones subyacentes sin sobreajustarse al ruido de los datos de entrenamiento.\n",
        "\n",
        "Indicadores de ajuste justo:\n",
        "- Buena métrica tanto en train como test.\n",
        "- Los errores no son muy distintos en ambos conjuntos.\n",
        "\n",
        "Técnicas para mantener un ajuste bueno:\n",
        "- Validar los modelos con nuevos datos continuamente.\n",
        "- Evitar añadir complejidad innecesaria."
      ],
      "metadata": {
        "id": "asSJstHR2fal"
      }
    },
    {
      "cell_type": "markdown",
      "source": [
        "## 5. Métricas <a name=\"metricas\"></a>"
      ],
      "metadata": {
        "id": "EoZ6P8ui3jq6"
      }
    },
    {
      "cell_type": "markdown",
      "source": [
        "La **evaluación** de un modelo es uno de los pasos más importantes en el proceso de Machine Learning, ya que nos va a permitir saber cómo de bueno es nuestro modelo, cuánto ha aprendido de la muestra de entrenamiento (`train`) y cómo procederá para datos nunca vistos o nuevos (`test` y/o `validación`).\n",
        "\n",
        "Para evaluar un modelo existen métricas según el tipo de problema y aprendizaje.\n",
        "\n",
        "El paquete `scikit-learn` permite fácilmente aplicar estas funciones a los modelos. La documentación está accesible [aquí](https://scikit-learn.org/stable/modules/model_evaluation.html#classification-metrics)."
      ],
      "metadata": {
        "id": "DDM_PG6T30Cn"
      }
    },
    {
      "cell_type": "markdown",
      "source": [
        "### Métricas para modelos de clasificación\n",
        "\n",
        "Un **modelo de clasificación** se utiliza para predecir una categoría o la clase de una observación.\n",
        "\n",
        "Conceptos claves:\n",
        "\n",
        "- Verdaderos Positivos (TP): Número de ejemplos positivos que el modelo clasificó correctamente como positivas.\n",
        "\n",
        "- Verdaderos Negativos (TN): Número de ejemplos negativos que el modelo clasificó correctamente como negativas.\n",
        "\n",
        "- Falsos Positivos (FP): Número de ejemplos negativos que el modelo clasificó incorrectamente como positivas.\n",
        "\n",
        "- Falsos Negativos (FN): Número de ejemplos positivos que el modelo clasificó incorrectamente como negativas.\n"
      ],
      "metadata": {
        "id": "_n83n5Y3EIv3"
      }
    },
    {
      "cell_type": "markdown",
      "source": [
        "Las métricas que se pueden aplicar a este tipo de modelos son las siguientes:\n",
        "\n",
        "- **Matriz de confusión**: La matriz compara los valores predichos con los valores reales.\n",
        "\n",
        "Buscamos valores altos en la diagonal.\n",
        "\n",
        "<img src=\"https://drive.google.com/uc?export=view&id=1OfBaMi2o8XbdognBPs9uK2xM3kNSf-GP\" height=\"230\" width=\"238\" style=\"float: center;\">\n",
        "\n",
        "<img src=\"https://drive.google.com/uc?export=view&id=1kY0DgyGy5UZvmv1lIsz4-TfQAWGRKISE\" height=\"353\" width=\"741\" style=\"float: center;\">"
      ],
      "metadata": {
        "id": "E6rvsBMfEf5T"
      }
    },
    {
      "cell_type": "markdown",
      "source": [
        "- **Exactitud** (*accuracy*).\n",
        "\n",
        "Es la proporción de instancias correctamente clasificadas (positivas o negaticvas) entre el total de predicciones realizadas.\n",
        "\n",
        "Mide el porcentaje de predicciones que el modelo acertó con respecto al total que hizo. Efectividad general del modelo.\n",
        "\n",
        "```\n",
        "accuracy = TP + TN / TP + TN + FP + FN\n",
        "```"
      ],
      "metadata": {
        "id": "Bd4nKsGyIITI"
      }
    },
    {
      "cell_type": "markdown",
      "source": [
        "- **Precisión** (*precision*).\n",
        "\n",
        "Es la proporción de instancias correctamente clasificadas positivas en relacion con todas las instancias clasificadas como positivas por el modelo.\n",
        "\n",
        "```\n",
        "precision = TP / TP + FP\n",
        "```"
      ],
      "metadata": {
        "id": "WxkhDTCEKE4l"
      }
    },
    {
      "cell_type": "markdown",
      "source": [
        "- **Sensibilidad** (*recall*).\n",
        "\n",
        "Es la proporción de instancias positivas correctamente clasificadas en relacion con todas las instancias que realmente son positivas.\n",
        "\n",
        "Se interpreta como la capacidad del modelo para capturar todas las instancias positivas, sin importar las falsas alarmas ( falsos negativos).\n",
        "\n",
        "```\n",
        "recall = TP / TP + FN\n",
        "```"
      ],
      "metadata": {
        "id": "qTdR1xZAJxwf"
      }
    },
    {
      "cell_type": "markdown",
      "source": [
        "- **Especificidad** (*specificity*).\n",
        "\n",
        "Es la proporción de instancias negativas correctamente clasificadas en relacion con todas las instancias que realmente son negativas.\n",
        "\n",
        "Se interpreta como la capacidad del modelo para capturar todas las instancias negativas, sin importar las falsas alarmas ( falsos positivos).\n",
        "\n",
        "```\n",
        "specificity = TN / TN + FP\n",
        "```"
      ],
      "metadata": {
        "id": "eui4FUD5NL0I"
      }
    },
    {
      "cell_type": "markdown",
      "source": [
        "- **Puntaje F1** (*F1 score*).\n",
        "\n",
        "Es una métrica que combina precisión y sensibilidad. Es útil cuando hay un desbalanceo de clases.\n",
        "\n",
        "Un valor alto de F1 indica buen equilibrio entre la capacidad de predecir instancias positivas correctamente y la capacidad de capturar todas las instancias positivas.\n",
        "\n",
        "```\n",
        "F1 score = 2 * (Precision * Recall) / (Precision + Recall)\n"
      ],
      "metadata": {
        "id": "wWA1FnAgJzEX"
      }
    },
    {
      "cell_type": "markdown",
      "source": [
        "- **Área Bajo la Curva** (*AUC*):\n",
        "\n",
        "Sirve para modelos binarios.\n",
        "\n",
        "Es una representación gráfica del rendimiento de un modelo de clasificación en varios umbrales de decisión.\n",
        "\n",
        "La curva ROC es una gráfica que muestra la relación entre la tasa de verdaderos positivos (TPR) y la tasa de falsos positivos (FPR) para diferentes umbrales de decisión.\n",
        "\n",
        "El AUC es el área total bajo la curva ROC y proporciona una medida agregada del rendimiento del modelo en todos los posibles umbrales.\n",
        "\n",
        "La AUC puede interpretarse de las siguientes maneras:\n",
        "\n",
        "- AUC = 1: El modelo tiene un rendimiento perfecto. Puede distinguir perfectamente entre las clases positivas y negativas.\n",
        "\n",
        "- 0.5 < AUC < 1: El modelo tiene mejor rendimiento que el azar, con mayor capacidad de discriminación entre las clases.\n",
        "\n",
        "- AUC = 0.5: El modelo no tiene capacidad de discriminación. Su rendimiento es equivalente al azar.\n",
        "\n",
        "- AUC < 0.5: El modelo tiene peor rendimiento que el azar, lo que implica que está clasificando incorrectamente con frecuencia."
      ],
      "metadata": {
        "id": "Q1-xlOH5J0Vc"
      }
    },
    {
      "cell_type": "markdown",
      "source": [
        "<img src=\"https://drive.google.com/uc?export=view&id=1_Cagvhg8ucIA5wDuYuHRwdhbKjPOA5bo\" height=\"325\" width=\"418\" style=\"float: center;\">"
      ],
      "metadata": {
        "id": "ZYn92CBlOgTt"
      }
    },
    {
      "cell_type": "markdown",
      "source": [
        "### Métricas para modelos de regresión\n",
        "\n",
        "Un **modelo de regresión** se utiliza para predecir un valor continuo.\n"
      ],
      "metadata": {
        "id": "u4fB-uvROyxL"
      }
    },
    {
      "cell_type": "markdown",
      "source": [
        "- **Error absoluto medio** (*Mean Absolute Error, MAE*).\n",
        "\n",
        "Media de la diferencia absoluta entre las predicciones y los valores reales.\n",
        "\n",
        "Es menos sensible a valores extremos que el MSE.\n",
        "\n",
        "Valores bajos me indica que predice bien. Se equivoca poco en promedio."
      ],
      "metadata": {
        "id": "MBm4cYwcO9CM"
      }
    },
    {
      "cell_type": "markdown",
      "source": [
        "- **Error cuadrático medio** (*Mean Squared Error, MSE*).\n",
        "\n",
        "Similar al anterior, pero eleva al cuadrado las diferencias antes de realizar la división.\n",
        "\n",
        "Penaliza más las diferencias grandes que el MAE.\n",
        "\n",
        "Un MSE más bajo indica que las predicicones están más cerca de los valores reales en promedio. No se puede interpretar en la unidad de la variable objetivo por elevar al cuadrado."
      ],
      "metadata": {
        "id": "666LY4f4O-Nv"
      }
    },
    {
      "cell_type": "markdown",
      "source": [
        "- **Error cuadrático medio de la raíz** (*Root Mean Squared Error, RMSE*).\n",
        "\n",
        "Es la raíz cuadrada del MSE.\n",
        "\n",
        "Similar al MSE pero las unidades son las mismas que las de la variable objetivo. Fácil interpretación."
      ],
      "metadata": {
        "id": "kUOQpXFtO-5V"
      }
    },
    {
      "cell_type": "markdown",
      "source": [
        "- **Coeficiente de determinación** ($R^2$).\n",
        "\n",
        "Mide la proporción de la variación en la variable objetivo que es explicada por las carácterísticas del modelo.\n",
        "\n",
        "Será un valor entre 0 y 1. Donde a más alto valor mejor predice. El modelo explica una mayor proporcion de la variabilidad de los datos."
      ],
      "metadata": {
        "id": "cYysOdNtO_ZV"
      }
    },
    {
      "cell_type": "markdown",
      "source": [
        "<img src=\"https://drive.google.com/uc?export=view&id=1lwR1TpfF-qK4ukSAglViQ3gU-HzhuA3g\" height=\"503\" width=\"552\" style=\"float: center;\">"
      ],
      "metadata": {
        "id": "lnJjLpLiSRIG"
      }
    },
    {
      "cell_type": "markdown",
      "source": [
        "## 6. Optimización de hiperparámetros <a name=\"hiperparametros\"></a>"
      ],
      "metadata": {
        "id": "z6sHs4dY4PNt"
      }
    },
    {
      "cell_type": "markdown",
      "source": [
        "Un **hiperparámetro** (*hyperparameter*) es una variable de configuración externa al modelo que se utiliza para entrenarlo.\n",
        "\n",
        "Un **parámetro** de un modelo son las características que se optimizan para entrenarlo y que conforman su aprendizaje. Estos valores no son accesibles por nosotros como desarrolladores.\n",
        "\n",
        "Tendremos distintos hiperparámetros disponibles según el modelo.\n",
        "\n",
        "Optimizar los hiperparámetros será una técnica usada para buscar mejorar el rendimiento del modelo.\n",
        "\n",
        "Tendremos distintas formas de buscar los mejores hiperparámetros."
      ],
      "metadata": {
        "id": "Fua2Z-Mu4TsP"
      }
    },
    {
      "cell_type": "markdown",
      "source": [
        "#### 1. Búsqueda en cuadrícula (*grid search*)\n",
        "\n",
        "Realiza una búsqueda exhaustiva a través de un subconjunto específico (establecido manualmente) de valores y luego probar todas las posibles combinaciones hasta encontrar el mejor de los modelos.\n",
        "\n",
        "##### Pros y contras de esta estrategia\n",
        "\n",
        "Como puntos a favor podemos encontrar:\n",
        "- Exhaustividad: Prueba todas las combinaciones posibles de hiperparámetros dentro de la cuadrícula proporcionada, por lo que si la combinación óptima está dentro de ella, esta metodología la encontrará.\n",
        "- Reproducibilidad: Debido a su naturaleza determinista (no aleatoria), siempre se obtendrá el mismo resultado con los mismos parámetros e input.\n",
        "\n",
        "Sin embargo, caben destacar los siguientes puntos negativos:\n",
        "- Eficiencia: Es muy costoso computacionalmente. Puede llevar mucho tiempo y requerir muchos recursos, especialmente si la cantidad de hiperparámetros es grande y/o el rango de valores es amplio.\n",
        "- No garantiza llegar al mejor de los resultados, ya que depende de los hiperparámetros y de los valores que el desarrollador establezca."
      ],
      "metadata": {
        "id": "HWO2ymu4TvqG"
      }
    },
    {
      "cell_type": "markdown",
      "source": [
        "#### 2. Búsqueda aleatoria (*random search*)\n",
        "\n",
        "Similar al anterior, pero, en lugar de probar todas las combinaciones posibles de unos valores de hiperparámetros previamente establecidos, esta metodología selecciona aleatoriamente combinaciones de hiperparámetros para probar."
      ],
      "metadata": {
        "id": "jhHju8JhUBYg"
      }
    },
    {
      "cell_type": "markdown",
      "source": [
        "## 7. Regresión logística <a name=\"logistica\"></a>"
      ],
      "metadata": {
        "id": "HHYjEENu6WNT"
      }
    },
    {
      "cell_type": "markdown",
      "source": [
        "Técnica que permite realizar un clasificador binario.\n",
        "\n",
        "Normalmente, esta predicción tiene solo dos resultados posibles, como predecir el sexo de una persona (mujer u hombre), el resultado de un experimento (éxito o fracaso), etcétera.\n",
        "\n",
        "Además, esta predicción se obtiene en términos de probabilidad; esto es, la probabilidad de que se dé un resultado determinado en un evento dicotómico. Luego, esta probabilidad se puede modificar para generar la predicción de una clase.\n",
        "\n",
        "Podemos construir un modelo de regresión logística fácilmente en Python utilizando la librería `scikit-learn` y la función `LogisticRegression`.\n",
        "\n",
        "Algunos de sus parámetros más importantes y los primeros en los que debemos centrarnos son:\n",
        "\n",
        "- `penalty`: Este parámetro se usa para prevenir el sobreajuste (*overfitting*) del modelo. Este parámetro se puede configurar para que no exista penalización y para graduarla desde niveles muy leves hasta muy altos.\n",
        "\n",
        "- `C`: Este parámetro determina la complejidad del modelo. Es el inverso del parámetro anterior. Es un número decimal que determina cómo de simple queremos que sea el modelo. Cuanto mayor sea el número, más complejo será el modelo y más se adaptará a la muestra de entrenamiento (aumentando la probabilidad del [sobreajuste](https://4geeks.com/es/lesson/basicos-de-machine-learning#Sobreajuste-de-modelos)).\n",
        "\n",
        "- `solver`: Algoritmo de regresión que se utilizará para entrenar al modelo. Dependiendo del tamaño del conjunto de datos, de las clases a predecir, del nivel de sobreajuste que estemos dispuestos a asumir o del nivel de precisión, elegiremos una implementación u otra.\n",
        "\n",
        "- `max_iter`: Número máximo de iteraciones.\n",
        "\n",
        "Otro parámetro muy importante es el `random_state`, que controla la semilla de generación aleatoria que requieren algunos de los solvers del modelo. Este parámetro es crucial para asegurar la replicabilidad."
      ],
      "metadata": {
        "id": "PpwfIZ_U-Xbz"
      }
    },
    {
      "cell_type": "markdown",
      "source": [
        "#### Ejemplo Titanic\n",
        "\n",
        "En el conjunto de datos del Titanic tenemos más de una característica, y con la regresión logística predecimos si sobrevivirán o no.\n",
        "\n",
        "Si el valor que predice el modelo fuera 0.85, eso significaría que la persona tiene un 85% de probabilidades de sobrevivir y un 15% de no hacerlo.\n",
        "\n",
        "Así, debemos establecer un límite (threshold) para poder realizar la clasificación (respondemos a la siguiente pregunta: ¿a partir de qué valor de probabilidad podemos asumir que la persona sobrevive o no?).\n",
        "\n",
        "Supongamos que ese valor es el 50%, es decir, que cuando la probabilidad es mayor o igual a 0.5, el valor es 1 (sobrevive), y cuando la probabilidad es menor a 0.5, el valor es 0 (no sobrevive).\n",
        "\n",
        "Además, tenemos que saber también que el proceso de entrenar y usar el modelo viene después del análisis exploratorio (EDA), así que necesitaremos partir de él."
      ],
      "metadata": {
        "id": "grVRXirY-oNk"
      }
    },
    {
      "cell_type": "code",
      "source": [
        "train_data = pd.read_csv(\"https://raw.githubusercontent.com/4GeeksAcademy/machine-learning-content/master/assets/clean_titanic_train.csv\")\n",
        "test_data = pd.read_csv(\"https://raw.githubusercontent.com/4GeeksAcademy/machine-learning-content/master/assets/clean_titanic_test.csv\")\n",
        "\n",
        "train_data.head()"
      ],
      "metadata": {
        "colab": {
          "base_uri": "https://localhost:8080/",
          "height": 206
        },
        "id": "dzYRZSBnVnNI",
        "outputId": "fbcf220c-2cb1-4472-9b8d-d3c97d800e97"
      },
      "execution_count": 4,
      "outputs": [
        {
          "output_type": "execute_result",
          "data": {
            "text/plain": [
              "   Pclass    Fare  Sex_n  Embarked_n  FamMembers  Survived\n",
              "0     2.0  10.500    1.0         0.0         0.0         0\n",
              "1     2.0  26.000    0.0         0.0         1.0         1\n",
              "2     3.0   7.750    1.0         2.0         0.0         1\n",
              "3     3.0  16.700    1.0         0.0         2.0         1\n",
              "4     3.0  34.375    1.0         0.0         4.0         0"
            ],
            "text/html": [
              "\n",
              "  <div id=\"df-0cb9c625-0ffd-475f-8844-3fa2ec7f345f\" class=\"colab-df-container\">\n",
              "    <div>\n",
              "<style scoped>\n",
              "    .dataframe tbody tr th:only-of-type {\n",
              "        vertical-align: middle;\n",
              "    }\n",
              "\n",
              "    .dataframe tbody tr th {\n",
              "        vertical-align: top;\n",
              "    }\n",
              "\n",
              "    .dataframe thead th {\n",
              "        text-align: right;\n",
              "    }\n",
              "</style>\n",
              "<table border=\"1\" class=\"dataframe\">\n",
              "  <thead>\n",
              "    <tr style=\"text-align: right;\">\n",
              "      <th></th>\n",
              "      <th>Pclass</th>\n",
              "      <th>Fare</th>\n",
              "      <th>Sex_n</th>\n",
              "      <th>Embarked_n</th>\n",
              "      <th>FamMembers</th>\n",
              "      <th>Survived</th>\n",
              "    </tr>\n",
              "  </thead>\n",
              "  <tbody>\n",
              "    <tr>\n",
              "      <th>0</th>\n",
              "      <td>2.0</td>\n",
              "      <td>10.500</td>\n",
              "      <td>1.0</td>\n",
              "      <td>0.0</td>\n",
              "      <td>0.0</td>\n",
              "      <td>0</td>\n",
              "    </tr>\n",
              "    <tr>\n",
              "      <th>1</th>\n",
              "      <td>2.0</td>\n",
              "      <td>26.000</td>\n",
              "      <td>0.0</td>\n",
              "      <td>0.0</td>\n",
              "      <td>1.0</td>\n",
              "      <td>1</td>\n",
              "    </tr>\n",
              "    <tr>\n",
              "      <th>2</th>\n",
              "      <td>3.0</td>\n",
              "      <td>7.750</td>\n",
              "      <td>1.0</td>\n",
              "      <td>2.0</td>\n",
              "      <td>0.0</td>\n",
              "      <td>1</td>\n",
              "    </tr>\n",
              "    <tr>\n",
              "      <th>3</th>\n",
              "      <td>3.0</td>\n",
              "      <td>16.700</td>\n",
              "      <td>1.0</td>\n",
              "      <td>0.0</td>\n",
              "      <td>2.0</td>\n",
              "      <td>1</td>\n",
              "    </tr>\n",
              "    <tr>\n",
              "      <th>4</th>\n",
              "      <td>3.0</td>\n",
              "      <td>34.375</td>\n",
              "      <td>1.0</td>\n",
              "      <td>0.0</td>\n",
              "      <td>4.0</td>\n",
              "      <td>0</td>\n",
              "    </tr>\n",
              "  </tbody>\n",
              "</table>\n",
              "</div>\n",
              "    <div class=\"colab-df-buttons\">\n",
              "\n",
              "  <div class=\"colab-df-container\">\n",
              "    <button class=\"colab-df-convert\" onclick=\"convertToInteractive('df-0cb9c625-0ffd-475f-8844-3fa2ec7f345f')\"\n",
              "            title=\"Convert this dataframe to an interactive table.\"\n",
              "            style=\"display:none;\">\n",
              "\n",
              "  <svg xmlns=\"http://www.w3.org/2000/svg\" height=\"24px\" viewBox=\"0 -960 960 960\">\n",
              "    <path d=\"M120-120v-720h720v720H120Zm60-500h600v-160H180v160Zm220 220h160v-160H400v160Zm0 220h160v-160H400v160ZM180-400h160v-160H180v160Zm440 0h160v-160H620v160ZM180-180h160v-160H180v160Zm440 0h160v-160H620v160Z\"/>\n",
              "  </svg>\n",
              "    </button>\n",
              "\n",
              "  <style>\n",
              "    .colab-df-container {\n",
              "      display:flex;\n",
              "      gap: 12px;\n",
              "    }\n",
              "\n",
              "    .colab-df-convert {\n",
              "      background-color: #E8F0FE;\n",
              "      border: none;\n",
              "      border-radius: 50%;\n",
              "      cursor: pointer;\n",
              "      display: none;\n",
              "      fill: #1967D2;\n",
              "      height: 32px;\n",
              "      padding: 0 0 0 0;\n",
              "      width: 32px;\n",
              "    }\n",
              "\n",
              "    .colab-df-convert:hover {\n",
              "      background-color: #E2EBFA;\n",
              "      box-shadow: 0px 1px 2px rgba(60, 64, 67, 0.3), 0px 1px 3px 1px rgba(60, 64, 67, 0.15);\n",
              "      fill: #174EA6;\n",
              "    }\n",
              "\n",
              "    .colab-df-buttons div {\n",
              "      margin-bottom: 4px;\n",
              "    }\n",
              "\n",
              "    [theme=dark] .colab-df-convert {\n",
              "      background-color: #3B4455;\n",
              "      fill: #D2E3FC;\n",
              "    }\n",
              "\n",
              "    [theme=dark] .colab-df-convert:hover {\n",
              "      background-color: #434B5C;\n",
              "      box-shadow: 0px 1px 3px 1px rgba(0, 0, 0, 0.15);\n",
              "      filter: drop-shadow(0px 1px 2px rgba(0, 0, 0, 0.3));\n",
              "      fill: #FFFFFF;\n",
              "    }\n",
              "  </style>\n",
              "\n",
              "    <script>\n",
              "      const buttonEl =\n",
              "        document.querySelector('#df-0cb9c625-0ffd-475f-8844-3fa2ec7f345f button.colab-df-convert');\n",
              "      buttonEl.style.display =\n",
              "        google.colab.kernel.accessAllowed ? 'block' : 'none';\n",
              "\n",
              "      async function convertToInteractive(key) {\n",
              "        const element = document.querySelector('#df-0cb9c625-0ffd-475f-8844-3fa2ec7f345f');\n",
              "        const dataTable =\n",
              "          await google.colab.kernel.invokeFunction('convertToInteractive',\n",
              "                                                    [key], {});\n",
              "        if (!dataTable) return;\n",
              "\n",
              "        const docLinkHtml = 'Like what you see? Visit the ' +\n",
              "          '<a target=\"_blank\" href=https://colab.research.google.com/notebooks/data_table.ipynb>data table notebook</a>'\n",
              "          + ' to learn more about interactive tables.';\n",
              "        element.innerHTML = '';\n",
              "        dataTable['output_type'] = 'display_data';\n",
              "        await google.colab.output.renderOutput(dataTable, element);\n",
              "        const docLink = document.createElement('div');\n",
              "        docLink.innerHTML = docLinkHtml;\n",
              "        element.appendChild(docLink);\n",
              "      }\n",
              "    </script>\n",
              "  </div>\n",
              "\n",
              "\n",
              "<div id=\"df-76625ad9-acc5-4b59-8a2c-99b64be35729\">\n",
              "  <button class=\"colab-df-quickchart\" onclick=\"quickchart('df-76625ad9-acc5-4b59-8a2c-99b64be35729')\"\n",
              "            title=\"Suggest charts\"\n",
              "            style=\"display:none;\">\n",
              "\n",
              "<svg xmlns=\"http://www.w3.org/2000/svg\" height=\"24px\"viewBox=\"0 0 24 24\"\n",
              "     width=\"24px\">\n",
              "    <g>\n",
              "        <path d=\"M19 3H5c-1.1 0-2 .9-2 2v14c0 1.1.9 2 2 2h14c1.1 0 2-.9 2-2V5c0-1.1-.9-2-2-2zM9 17H7v-7h2v7zm4 0h-2V7h2v10zm4 0h-2v-4h2v4z\"/>\n",
              "    </g>\n",
              "</svg>\n",
              "  </button>\n",
              "\n",
              "<style>\n",
              "  .colab-df-quickchart {\n",
              "      --bg-color: #E8F0FE;\n",
              "      --fill-color: #1967D2;\n",
              "      --hover-bg-color: #E2EBFA;\n",
              "      --hover-fill-color: #174EA6;\n",
              "      --disabled-fill-color: #AAA;\n",
              "      --disabled-bg-color: #DDD;\n",
              "  }\n",
              "\n",
              "  [theme=dark] .colab-df-quickchart {\n",
              "      --bg-color: #3B4455;\n",
              "      --fill-color: #D2E3FC;\n",
              "      --hover-bg-color: #434B5C;\n",
              "      --hover-fill-color: #FFFFFF;\n",
              "      --disabled-bg-color: #3B4455;\n",
              "      --disabled-fill-color: #666;\n",
              "  }\n",
              "\n",
              "  .colab-df-quickchart {\n",
              "    background-color: var(--bg-color);\n",
              "    border: none;\n",
              "    border-radius: 50%;\n",
              "    cursor: pointer;\n",
              "    display: none;\n",
              "    fill: var(--fill-color);\n",
              "    height: 32px;\n",
              "    padding: 0;\n",
              "    width: 32px;\n",
              "  }\n",
              "\n",
              "  .colab-df-quickchart:hover {\n",
              "    background-color: var(--hover-bg-color);\n",
              "    box-shadow: 0 1px 2px rgba(60, 64, 67, 0.3), 0 1px 3px 1px rgba(60, 64, 67, 0.15);\n",
              "    fill: var(--button-hover-fill-color);\n",
              "  }\n",
              "\n",
              "  .colab-df-quickchart-complete:disabled,\n",
              "  .colab-df-quickchart-complete:disabled:hover {\n",
              "    background-color: var(--disabled-bg-color);\n",
              "    fill: var(--disabled-fill-color);\n",
              "    box-shadow: none;\n",
              "  }\n",
              "\n",
              "  .colab-df-spinner {\n",
              "    border: 2px solid var(--fill-color);\n",
              "    border-color: transparent;\n",
              "    border-bottom-color: var(--fill-color);\n",
              "    animation:\n",
              "      spin 1s steps(1) infinite;\n",
              "  }\n",
              "\n",
              "  @keyframes spin {\n",
              "    0% {\n",
              "      border-color: transparent;\n",
              "      border-bottom-color: var(--fill-color);\n",
              "      border-left-color: var(--fill-color);\n",
              "    }\n",
              "    20% {\n",
              "      border-color: transparent;\n",
              "      border-left-color: var(--fill-color);\n",
              "      border-top-color: var(--fill-color);\n",
              "    }\n",
              "    30% {\n",
              "      border-color: transparent;\n",
              "      border-left-color: var(--fill-color);\n",
              "      border-top-color: var(--fill-color);\n",
              "      border-right-color: var(--fill-color);\n",
              "    }\n",
              "    40% {\n",
              "      border-color: transparent;\n",
              "      border-right-color: var(--fill-color);\n",
              "      border-top-color: var(--fill-color);\n",
              "    }\n",
              "    60% {\n",
              "      border-color: transparent;\n",
              "      border-right-color: var(--fill-color);\n",
              "    }\n",
              "    80% {\n",
              "      border-color: transparent;\n",
              "      border-right-color: var(--fill-color);\n",
              "      border-bottom-color: var(--fill-color);\n",
              "    }\n",
              "    90% {\n",
              "      border-color: transparent;\n",
              "      border-bottom-color: var(--fill-color);\n",
              "    }\n",
              "  }\n",
              "</style>\n",
              "\n",
              "  <script>\n",
              "    async function quickchart(key) {\n",
              "      const quickchartButtonEl =\n",
              "        document.querySelector('#' + key + ' button');\n",
              "      quickchartButtonEl.disabled = true;  // To prevent multiple clicks.\n",
              "      quickchartButtonEl.classList.add('colab-df-spinner');\n",
              "      try {\n",
              "        const charts = await google.colab.kernel.invokeFunction(\n",
              "            'suggestCharts', [key], {});\n",
              "      } catch (error) {\n",
              "        console.error('Error during call to suggestCharts:', error);\n",
              "      }\n",
              "      quickchartButtonEl.classList.remove('colab-df-spinner');\n",
              "      quickchartButtonEl.classList.add('colab-df-quickchart-complete');\n",
              "    }\n",
              "    (() => {\n",
              "      let quickchartButtonEl =\n",
              "        document.querySelector('#df-76625ad9-acc5-4b59-8a2c-99b64be35729 button');\n",
              "      quickchartButtonEl.style.display =\n",
              "        google.colab.kernel.accessAllowed ? 'block' : 'none';\n",
              "    })();\n",
              "  </script>\n",
              "</div>\n",
              "\n",
              "    </div>\n",
              "  </div>\n"
            ],
            "application/vnd.google.colaboratory.intrinsic+json": {
              "type": "dataframe",
              "variable_name": "train_data",
              "summary": "{\n  \"name\": \"train_data\",\n  \"rows\": 1047,\n  \"fields\": [\n    {\n      \"column\": \"Pclass\",\n      \"properties\": {\n        \"dtype\": \"number\",\n        \"std\": 0.8450761534405917,\n        \"min\": 1.0,\n        \"max\": 3.0,\n        \"num_unique_values\": 3,\n        \"samples\": [\n          2.0,\n          3.0,\n          1.0\n        ],\n        \"semantic_type\": \"\",\n        \"description\": \"\"\n      }\n    },\n    {\n      \"column\": \"Fare\",\n      \"properties\": {\n        \"dtype\": \"number\",\n        \"std\": 48.852306947440894,\n        \"min\": 0.0,\n        \"max\": 512.3292,\n        \"num_unique_values\": 260,\n        \"samples\": [\n          7.7333,\n          8.4333,\n          18.75\n        ],\n        \"semantic_type\": \"\",\n        \"description\": \"\"\n      }\n    },\n    {\n      \"column\": \"Sex_n\",\n      \"properties\": {\n        \"dtype\": \"number\",\n        \"std\": 0.47795702243478294,\n        \"min\": 0.0,\n        \"max\": 1.0,\n        \"num_unique_values\": 2,\n        \"samples\": [\n          0.0,\n          1.0\n        ],\n        \"semantic_type\": \"\",\n        \"description\": \"\"\n      }\n    },\n    {\n      \"column\": \"Embarked_n\",\n      \"properties\": {\n        \"dtype\": \"number\",\n        \"std\": 0.640778267749729,\n        \"min\": -1.0,\n        \"max\": 2.0,\n        \"num_unique_values\": 4,\n        \"samples\": [\n          2.0,\n          -1.0\n        ],\n        \"semantic_type\": \"\",\n        \"description\": \"\"\n      }\n    },\n    {\n      \"column\": \"FamMembers\",\n      \"properties\": {\n        \"dtype\": \"number\",\n        \"std\": 1.6194528458546795,\n        \"min\": 0.0,\n        \"max\": 10.0,\n        \"num_unique_values\": 9,\n        \"samples\": [\n          6.0,\n          1.0\n        ],\n        \"semantic_type\": \"\",\n        \"description\": \"\"\n      }\n    },\n    {\n      \"column\": \"Survived\",\n      \"properties\": {\n        \"dtype\": \"number\",\n        \"std\": 0,\n        \"min\": 0,\n        \"max\": 1,\n        \"num_unique_values\": 2,\n        \"samples\": [\n          1,\n          0\n        ],\n        \"semantic_type\": \"\",\n        \"description\": \"\"\n      }\n    }\n  ]\n}"
            }
          },
          "metadata": {},
          "execution_count": 4
        }
      ]
    },
    {
      "cell_type": "markdown",
      "source": [
        "El conjunto `train` lo utilizaremos para entrenar el modelo, mientras que con el `test` lo evaluaremos para medir su grado de efectividad. Dividiremos también las predictoras de las características."
      ],
      "metadata": {
        "id": "u3mukWSSV_kO"
      }
    },
    {
      "cell_type": "code",
      "source": [
        "X_train = train_data.drop([\"Survived\"], axis = 1)\n",
        "y_train = train_data[\"Survived\"]\n",
        "\n",
        "X_test = test_data.drop([\"Survived\"], axis = 1)\n",
        "y_test = test_data[\"Survived\"]"
      ],
      "metadata": {
        "id": "-20JHCERV_63"
      },
      "execution_count": 5,
      "outputs": []
    },
    {
      "cell_type": "markdown",
      "source": [
        "##### Paso 2: Inicialización y entrenamiento del modelo"
      ],
      "metadata": {
        "id": "sLK1FkX-WEHT"
      }
    },
    {
      "cell_type": "code",
      "source": [
        "# instancioamos\n",
        "model = LogisticRegression()\n",
        "\n",
        "# entrenamos\n",
        "model.fit(X_train, y_train)"
      ],
      "metadata": {
        "colab": {
          "base_uri": "https://localhost:8080/",
          "height": 75
        },
        "id": "2ZVmGXg5WEnc",
        "outputId": "055cae88-8340-425b-aebf-1e6b92ee4b76"
      },
      "execution_count": 6,
      "outputs": [
        {
          "output_type": "execute_result",
          "data": {
            "text/plain": [
              "LogisticRegression()"
            ],
            "text/html": [
              "<style>#sk-container-id-1 {color: black;background-color: white;}#sk-container-id-1 pre{padding: 0;}#sk-container-id-1 div.sk-toggleable {background-color: white;}#sk-container-id-1 label.sk-toggleable__label {cursor: pointer;display: block;width: 100%;margin-bottom: 0;padding: 0.3em;box-sizing: border-box;text-align: center;}#sk-container-id-1 label.sk-toggleable__label-arrow:before {content: \"▸\";float: left;margin-right: 0.25em;color: #696969;}#sk-container-id-1 label.sk-toggleable__label-arrow:hover:before {color: black;}#sk-container-id-1 div.sk-estimator:hover label.sk-toggleable__label-arrow:before {color: black;}#sk-container-id-1 div.sk-toggleable__content {max-height: 0;max-width: 0;overflow: hidden;text-align: left;background-color: #f0f8ff;}#sk-container-id-1 div.sk-toggleable__content pre {margin: 0.2em;color: black;border-radius: 0.25em;background-color: #f0f8ff;}#sk-container-id-1 input.sk-toggleable__control:checked~div.sk-toggleable__content {max-height: 200px;max-width: 100%;overflow: auto;}#sk-container-id-1 input.sk-toggleable__control:checked~label.sk-toggleable__label-arrow:before {content: \"▾\";}#sk-container-id-1 div.sk-estimator input.sk-toggleable__control:checked~label.sk-toggleable__label {background-color: #d4ebff;}#sk-container-id-1 div.sk-label input.sk-toggleable__control:checked~label.sk-toggleable__label {background-color: #d4ebff;}#sk-container-id-1 input.sk-hidden--visually {border: 0;clip: rect(1px 1px 1px 1px);clip: rect(1px, 1px, 1px, 1px);height: 1px;margin: -1px;overflow: hidden;padding: 0;position: absolute;width: 1px;}#sk-container-id-1 div.sk-estimator {font-family: monospace;background-color: #f0f8ff;border: 1px dotted black;border-radius: 0.25em;box-sizing: border-box;margin-bottom: 0.5em;}#sk-container-id-1 div.sk-estimator:hover {background-color: #d4ebff;}#sk-container-id-1 div.sk-parallel-item::after {content: \"\";width: 100%;border-bottom: 1px solid gray;flex-grow: 1;}#sk-container-id-1 div.sk-label:hover label.sk-toggleable__label {background-color: #d4ebff;}#sk-container-id-1 div.sk-serial::before {content: \"\";position: absolute;border-left: 1px solid gray;box-sizing: border-box;top: 0;bottom: 0;left: 50%;z-index: 0;}#sk-container-id-1 div.sk-serial {display: flex;flex-direction: column;align-items: center;background-color: white;padding-right: 0.2em;padding-left: 0.2em;position: relative;}#sk-container-id-1 div.sk-item {position: relative;z-index: 1;}#sk-container-id-1 div.sk-parallel {display: flex;align-items: stretch;justify-content: center;background-color: white;position: relative;}#sk-container-id-1 div.sk-item::before, #sk-container-id-1 div.sk-parallel-item::before {content: \"\";position: absolute;border-left: 1px solid gray;box-sizing: border-box;top: 0;bottom: 0;left: 50%;z-index: -1;}#sk-container-id-1 div.sk-parallel-item {display: flex;flex-direction: column;z-index: 1;position: relative;background-color: white;}#sk-container-id-1 div.sk-parallel-item:first-child::after {align-self: flex-end;width: 50%;}#sk-container-id-1 div.sk-parallel-item:last-child::after {align-self: flex-start;width: 50%;}#sk-container-id-1 div.sk-parallel-item:only-child::after {width: 0;}#sk-container-id-1 div.sk-dashed-wrapped {border: 1px dashed gray;margin: 0 0.4em 0.5em 0.4em;box-sizing: border-box;padding-bottom: 0.4em;background-color: white;}#sk-container-id-1 div.sk-label label {font-family: monospace;font-weight: bold;display: inline-block;line-height: 1.2em;}#sk-container-id-1 div.sk-label-container {text-align: center;}#sk-container-id-1 div.sk-container {/* jupyter's `normalize.less` sets `[hidden] { display: none; }` but bootstrap.min.css set `[hidden] { display: none !important; }` so we also need the `!important` here to be able to override the default hidden behavior on the sphinx rendered scikit-learn.org. See: https://github.com/scikit-learn/scikit-learn/issues/21755 */display: inline-block !important;position: relative;}#sk-container-id-1 div.sk-text-repr-fallback {display: none;}</style><div id=\"sk-container-id-1\" class=\"sk-top-container\"><div class=\"sk-text-repr-fallback\"><pre>LogisticRegression()</pre><b>In a Jupyter environment, please rerun this cell to show the HTML representation or trust the notebook. <br />On GitHub, the HTML representation is unable to render, please try loading this page with nbviewer.org.</b></div><div class=\"sk-container\" hidden><div class=\"sk-item\"><div class=\"sk-estimator sk-toggleable\"><input class=\"sk-toggleable__control sk-hidden--visually\" id=\"sk-estimator-id-1\" type=\"checkbox\" checked><label for=\"sk-estimator-id-1\" class=\"sk-toggleable__label sk-toggleable__label-arrow\">LogisticRegression</label><div class=\"sk-toggleable__content\"><pre>LogisticRegression()</pre></div></div></div></div></div>"
            ]
          },
          "metadata": {},
          "execution_count": 6
        }
      ]
    },
    {
      "cell_type": "markdown",
      "source": [
        "##### Paso 3: Predicción del modelo\n",
        "\n",
        "Una vez se ha entrenado el modelo, se puede utilizar para predecir con el conjunto de datos de prueba."
      ],
      "metadata": {
        "id": "f6J35ItCWNC9"
      }
    },
    {
      "cell_type": "code",
      "source": [
        "X_test.shape"
      ],
      "metadata": {
        "colab": {
          "base_uri": "https://localhost:8080/"
        },
        "id": "dyrEACibvrp1",
        "outputId": "28f05872-7dd4-4228-f3b0-c0986677d435"
      },
      "execution_count": 9,
      "outputs": [
        {
          "output_type": "execute_result",
          "data": {
            "text/plain": [
              "(262, 5)"
            ]
          },
          "metadata": {},
          "execution_count": 9
        }
      ]
    },
    {
      "cell_type": "code",
      "source": [
        "y_pred = model.predict(X_test)\n",
        "y_pred"
      ],
      "metadata": {
        "colab": {
          "base_uri": "https://localhost:8080/"
        },
        "id": "pfKqOwrvWNWw",
        "outputId": "b3ce241a-99f3-4258-bc15-97be89bea843"
      },
      "execution_count": 7,
      "outputs": [
        {
          "output_type": "execute_result",
          "data": {
            "text/plain": [
              "array([0, 0, 0, 0, 1, 1, 1, 1, 1, 0, 0, 0, 0, 1, 0, 1, 1, 0, 0, 0, 0, 0,\n",
              "       0, 0, 0, 1, 0, 0, 0, 1, 0, 1, 1, 0, 0, 0, 1, 1, 0, 1, 0, 1, 1, 0,\n",
              "       0, 0, 0, 0, 1, 1, 1, 1, 0, 0, 1, 0, 0, 1, 0, 0, 0, 0, 1, 1, 1, 0,\n",
              "       1, 1, 0, 0, 0, 0, 0, 0, 0, 0, 1, 0, 1, 0, 1, 0, 0, 0, 0, 0, 0, 0,\n",
              "       1, 1, 1, 0, 0, 1, 0, 1, 0, 0, 1, 1, 0, 0, 0, 1, 1, 0, 1, 0, 0, 1,\n",
              "       0, 1, 1, 0, 1, 0, 1, 1, 0, 0, 0, 1, 0, 0, 0, 1, 1, 0, 0, 1, 0, 1,\n",
              "       0, 1, 0, 0, 1, 0, 0, 0, 0, 1, 0, 0, 0, 1, 0, 1, 0, 0, 0, 0, 0, 0,\n",
              "       1, 1, 0, 1, 0, 1, 0, 0, 0, 1, 0, 0, 0, 1, 0, 0, 0, 1, 0, 1, 0, 1,\n",
              "       1, 0, 0, 0, 0, 0, 1, 1, 1, 0, 0, 0, 1, 0, 0, 1, 0, 0, 0, 0, 1, 1,\n",
              "       0, 0, 0, 1, 1, 0, 1, 0, 0, 0, 0, 0, 0, 0, 0, 0, 0, 0, 1, 1, 0, 0,\n",
              "       0, 1, 0, 1, 0, 1, 0, 0, 0, 0, 1, 0, 0, 1, 1, 0, 1, 0, 1, 0, 0, 0,\n",
              "       0, 0, 0, 1, 0, 0, 1, 1, 0, 1, 0, 1, 1, 1, 0, 0, 1, 1, 1, 1])"
            ]
          },
          "metadata": {},
          "execution_count": 7
        }
      ]
    },
    {
      "cell_type": "markdown",
      "source": [
        "Existe una gran cantidad de métricas para medir la efectividad de un modelo a la hora de predecir, entre ellas la **precisión** (*accuracy*), que es la fracción de predicciones que el modelo realizó correctamente."
      ],
      "metadata": {
        "id": "zGYBJUwhWRz-"
      }
    },
    {
      "cell_type": "code",
      "source": [
        "accuracy_score(y_test, y_pred)"
      ],
      "metadata": {
        "colab": {
          "base_uri": "https://localhost:8080/"
        },
        "id": "F5Kiuc1EWSWm",
        "outputId": "c388d08c-1964-4ce7-cd10-545b9967464c"
      },
      "execution_count": 10,
      "outputs": [
        {
          "output_type": "execute_result",
          "data": {
            "text/plain": [
              "0.851145038167939"
            ]
          },
          "metadata": {},
          "execution_count": 10
        }
      ]
    },
    {
      "cell_type": "markdown",
      "source": [
        "El modelo predice con un  85% de efectividad.\n",
        "\n",
        "El valor anterior se interpretaría como que el modelo ha predicho, de 262 pasajeros, el resultado de supervivencia de 222 de ellos (si sobrevivían o no) correctamente.\n",
        "\n",
        "Además de la puntuación (*score*) del modelo observada, es común que en los problemas de clasificación se construya una **matriz de confusión** (*confusion matrix*), que es una tabla que se organiza de tal manera que cada fila de la matriz representa las instancias de una clase predicha, mientras que cada columna representa las instancias de una clase real:"
      ],
      "metadata": {
        "id": "Ug_JVSdCWZWG"
      }
    },
    {
      "cell_type": "code",
      "source": [
        "titanic_cm = confusion_matrix(y_test, y_pred)\n",
        "\n",
        "# Dibujaremos esta matriz para hacerla más visual\n",
        "cm_df = pd.DataFrame(titanic_cm)\n",
        "\n",
        "plt.figure(figsize = (3, 3))\n",
        "sns.heatmap(cm_df, annot=True, fmt=\"d\", cbar=False)\n",
        "\n",
        "plt.tight_layout()\n",
        "\n",
        "plt.xlabel('Predicted')\n",
        "plt.ylabel('Actual')\n",
        "plt.title('Confusion Matrix')\n",
        "plt.show()"
      ],
      "metadata": {
        "colab": {
          "base_uri": "https://localhost:8080/",
          "height": 348
        },
        "id": "dTKsMDFyWlaG",
        "outputId": "1441c484-aec3-45ec-f61a-74a9dd5425c5"
      },
      "execution_count": 11,
      "outputs": [
        {
          "output_type": "display_data",
          "data": {
            "text/plain": [
              "<Figure size 300x300 with 1 Axes>"
            ],
            "image/png": "[encoded data removed]"
          },
          "metadata": {}
        }
      ]
    },
    {
      "cell_type": "markdown",
      "source": [
        "La interpretación de una matriz de confusión es la siguiente:\n",
        "\n",
        "- **Verdaderos positivos** (*TP, True positive*): Se corresponde con el número `142` y son los casos en los que el modelo predijo positivo (no supervivencia) y la clase real también es positiva.\n",
        "- **Verdaderos negativos** (*TN, False negative*): Se corresponde con el número `81` y son los casos en los que el modelo predijo negativo (supervivencia) y la clase real también es negativa.\n",
        "- **Falsos positivos** (*FP, False positive*): Se corresponde con el número `22` y son los casos en los que el modelo predijo positivo y la clase real es negativa.\n",
        "- **Falsos negativos** (*FN, False negative*): Se corresponde con el número `17` y son los casos en los que el modelo predijo negativo y la clase real es positiva.\n",
        "\n",
        "Estas cuatro medidas se utilizan a menudo para calcular métricas más complejas."
      ],
      "metadata": {
        "id": "3SV1VsDfWttW"
      }
    },
    {
      "cell_type": "markdown",
      "source": [
        "##### Paso 4: Optimización de resultados\n",
        "\n",
        "Como hemos visto, el modelo base (con todos los parámetros predefinidos) de la regresión logística obtiene poco más de un 84% de precisión. Sin embargo, el hecho de modificar los parámetros del modelo podría suponer una mejora (o empeoramiento) significativos de los resultados. Existen varias estrategias como los modelos regularizados."
      ],
      "metadata": {
        "id": "MO9gAJn5W56B"
      }
    },
    {
      "cell_type": "code",
      "source": [
        "def warn(*args, **kwargs):\n",
        "    pass\n",
        "import warnings\n",
        "warnings.warn = warn"
      ],
      "metadata": {
        "id": "5iP1Xcy-X7eq"
      },
      "execution_count": 12,
      "outputs": []
    },
    {
      "cell_type": "code",
      "source": [
        "# Definimos los parámetros que queremos ajustar a mano\n",
        "hyperparams = {\n",
        "    \"C\": [0.001, 0.01, 0.1, 1, 10, 100, 1000],\n",
        "    \"penalty\": [\"l1\", \"l2\", \"elasticnet\", None],\n",
        "    \"solver\": [\"newton-cg\", \"lbfgs\", \"liblinear\", \"sag\", \"saga\"]\n",
        "}\n",
        "\n",
        "# Inicializamos la cuadrícula\n",
        "grid = GridSearchCV(model, hyperparams, scoring = \"accuracy\", cv = 5)\n",
        "grid"
      ],
      "metadata": {
        "colab": {
          "base_uri": "https://localhost:8080/",
          "height": 118
        },
        "id": "Be-W7RRsXnVu",
        "outputId": "ddbaccd5-afd7-49e4-deee-d59c3f8ced13"
      },
      "execution_count": 13,
      "outputs": [
        {
          "output_type": "execute_result",
          "data": {
            "text/plain": [
              "GridSearchCV(cv=5, estimator=LogisticRegression(),\n",
              "             param_grid={'C': [0.001, 0.01, 0.1, 1, 10, 100, 1000],\n",
              "                         'penalty': ['l1', 'l2', 'elasticnet', None],\n",
              "                         'solver': ['newton-cg', 'lbfgs', 'liblinear', 'sag',\n",
              "                                    'saga']},\n",
              "             scoring='accuracy')"
            ],
            "text/html": [
              "<style>#sk-container-id-2 {color: black;background-color: white;}#sk-container-id-2 pre{padding: 0;}#sk-container-id-2 div.sk-toggleable {background-color: white;}#sk-container-id-2 label.sk-toggleable__label {cursor: pointer;display: block;width: 100%;margin-bottom: 0;padding: 0.3em;box-sizing: border-box;text-align: center;}#sk-container-id-2 label.sk-toggleable__label-arrow:before {content: \"▸\";float: left;margin-right: 0.25em;color: #696969;}#sk-container-id-2 label.sk-toggleable__label-arrow:hover:before {color: black;}#sk-container-id-2 div.sk-estimator:hover label.sk-toggleable__label-arrow:before {color: black;}#sk-container-id-2 div.sk-toggleable__content {max-height: 0;max-width: 0;overflow: hidden;text-align: left;background-color: #f0f8ff;}#sk-container-id-2 div.sk-toggleable__content pre {margin: 0.2em;color: black;border-radius: 0.25em;background-color: #f0f8ff;}#sk-container-id-2 input.sk-toggleable__control:checked~div.sk-toggleable__content {max-height: 200px;max-width: 100%;overflow: auto;}#sk-container-id-2 input.sk-toggleable__control:checked~label.sk-toggleable__label-arrow:before {content: \"▾\";}#sk-container-id-2 div.sk-estimator input.sk-toggleable__control:checked~label.sk-toggleable__label {background-color: #d4ebff;}#sk-container-id-2 div.sk-label input.sk-toggleable__control:checked~label.sk-toggleable__label {background-color: #d4ebff;}#sk-container-id-2 input.sk-hidden--visually {border: 0;clip: rect(1px 1px 1px 1px);clip: rect(1px, 1px, 1px, 1px);height: 1px;margin: -1px;overflow: hidden;padding: 0;position: absolute;width: 1px;}#sk-container-id-2 div.sk-estimator {font-family: monospace;background-color: #f0f8ff;border: 1px dotted black;border-radius: 0.25em;box-sizing: border-box;margin-bottom: 0.5em;}#sk-container-id-2 div.sk-estimator:hover {background-color: #d4ebff;}#sk-container-id-2 div.sk-parallel-item::after {content: \"\";width: 100%;border-bottom: 1px solid gray;flex-grow: 1;}#sk-container-id-2 div.sk-label:hover label.sk-toggleable__label {background-color: #d4ebff;}#sk-container-id-2 div.sk-serial::before {content: \"\";position: absolute;border-left: 1px solid gray;box-sizing: border-box;top: 0;bottom: 0;left: 50%;z-index: 0;}#sk-container-id-2 div.sk-serial {display: flex;flex-direction: column;align-items: center;background-color: white;padding-right: 0.2em;padding-left: 0.2em;position: relative;}#sk-container-id-2 div.sk-item {position: relative;z-index: 1;}#sk-container-id-2 div.sk-parallel {display: flex;align-items: stretch;justify-content: center;background-color: white;position: relative;}#sk-container-id-2 div.sk-item::before, #sk-container-id-2 div.sk-parallel-item::before {content: \"\";position: absolute;border-left: 1px solid gray;box-sizing: border-box;top: 0;bottom: 0;left: 50%;z-index: -1;}#sk-container-id-2 div.sk-parallel-item {display: flex;flex-direction: column;z-index: 1;position: relative;background-color: white;}#sk-container-id-2 div.sk-parallel-item:first-child::after {align-self: flex-end;width: 50%;}#sk-container-id-2 div.sk-parallel-item:last-child::after {align-self: flex-start;width: 50%;}#sk-container-id-2 div.sk-parallel-item:only-child::after {width: 0;}#sk-container-id-2 div.sk-dashed-wrapped {border: 1px dashed gray;margin: 0 0.4em 0.5em 0.4em;box-sizing: border-box;padding-bottom: 0.4em;background-color: white;}#sk-container-id-2 div.sk-label label {font-family: monospace;font-weight: bold;display: inline-block;line-height: 1.2em;}#sk-container-id-2 div.sk-label-container {text-align: center;}#sk-container-id-2 div.sk-container {/* jupyter's `normalize.less` sets `[hidden] { display: none; }` but bootstrap.min.css set `[hidden] { display: none !important; }` so we also need the `!important` here to be able to override the default hidden behavior on the sphinx rendered scikit-learn.org. See: https://github.com/scikit-learn/scikit-learn/issues/21755 */display: inline-block !important;position: relative;}#sk-container-id-2 div.sk-text-repr-fallback {display: none;}</style><div id=\"sk-container-id-2\" class=\"sk-top-container\"><div class=\"sk-text-repr-fallback\"><pre>GridSearchCV(cv=5, estimator=LogisticRegression(),\n",
              "             param_grid={&#x27;C&#x27;: [0.001, 0.01, 0.1, 1, 10, 100, 1000],\n",
              "                         &#x27;penalty&#x27;: [&#x27;l1&#x27;, &#x27;l2&#x27;, &#x27;elasticnet&#x27;, None],\n",
              "                         &#x27;solver&#x27;: [&#x27;newton-cg&#x27;, &#x27;lbfgs&#x27;, &#x27;liblinear&#x27;, &#x27;sag&#x27;,\n",
              "                                    &#x27;saga&#x27;]},\n",
              "             scoring=&#x27;accuracy&#x27;)</pre><b>In a Jupyter environment, please rerun this cell to show the HTML representation or trust the notebook. <br />On GitHub, the HTML representation is unable to render, please try loading this page with nbviewer.org.</b></div><div class=\"sk-container\" hidden><div class=\"sk-item sk-dashed-wrapped\"><div class=\"sk-label-container\"><div class=\"sk-label sk-toggleable\"><input class=\"sk-toggleable__control sk-hidden--visually\" id=\"sk-estimator-id-2\" type=\"checkbox\" ><label for=\"sk-estimator-id-2\" class=\"sk-toggleable__label sk-toggleable__label-arrow\">GridSearchCV</label><div class=\"sk-toggleable__content\"><pre>GridSearchCV(cv=5, estimator=LogisticRegression(),\n",
              "             param_grid={&#x27;C&#x27;: [0.001, 0.01, 0.1, 1, 10, 100, 1000],\n",
              "                         &#x27;penalty&#x27;: [&#x27;l1&#x27;, &#x27;l2&#x27;, &#x27;elasticnet&#x27;, None],\n",
              "                         &#x27;solver&#x27;: [&#x27;newton-cg&#x27;, &#x27;lbfgs&#x27;, &#x27;liblinear&#x27;, &#x27;sag&#x27;,\n",
              "                                    &#x27;saga&#x27;]},\n",
              "             scoring=&#x27;accuracy&#x27;)</pre></div></div></div><div class=\"sk-parallel\"><div class=\"sk-parallel-item\"><div class=\"sk-item\"><div class=\"sk-label-container\"><div class=\"sk-label sk-toggleable\"><input class=\"sk-toggleable__control sk-hidden--visually\" id=\"sk-estimator-id-3\" type=\"checkbox\" ><label for=\"sk-estimator-id-3\" class=\"sk-toggleable__label sk-toggleable__label-arrow\">estimator: LogisticRegression</label><div class=\"sk-toggleable__content\"><pre>LogisticRegression()</pre></div></div></div><div class=\"sk-serial\"><div class=\"sk-item\"><div class=\"sk-estimator sk-toggleable\"><input class=\"sk-toggleable__control sk-hidden--visually\" id=\"sk-estimator-id-4\" type=\"checkbox\" ><label for=\"sk-estimator-id-4\" class=\"sk-toggleable__label sk-toggleable__label-arrow\">LogisticRegression</label><div class=\"sk-toggleable__content\"><pre>LogisticRegression()</pre></div></div></div></div></div></div></div></div></div></div>"
            ]
          },
          "metadata": {},
          "execution_count": 13
        }
      ]
    },
    {
      "cell_type": "code",
      "source": [
        "grid.fit(X_train, y_train)\n",
        "\n",
        "print(f\"Mejores hiperparámetros: {grid.best_params_}\")"
      ],
      "metadata": {
        "colab": {
          "base_uri": "https://localhost:8080/"
        },
        "id": "vmUzbEAgXuX0",
        "outputId": "74b23105-e4c2-40f1-92e3-67accdfe35cf"
      },
      "execution_count": 14,
      "outputs": [
        {
          "output_type": "stream",
          "name": "stdout",
          "text": [
            "Mejores hiperparámetros: {'C': 1, 'penalty': 'l1', 'solver': 'liblinear'}\n"
          ]
        }
      ]
    },
    {
      "cell_type": "markdown",
      "source": [
        "Como vemos, los parámetros optimizados utilizando esta técnica son:\n",
        "\n",
        "- `C`: 1\n",
        "- `penalty`: l1\n",
        "- `solver`: liblinear\n",
        "\n",
        "Además, siempre debemos utilizar el conjunto de datos de entrenamiento para ajustarlo. Ahora solo tenemos que repetir el entrenamiento estableciendo estos parámetros en el modelo:"
      ],
      "metadata": {
        "id": "btR8w5udXwmC"
      }
    },
    {
      "cell_type": "code",
      "source": [
        "model_grid = LogisticRegression(penalty = \"l1\", C = 1, solver = \"liblinear\")\n",
        "model_grid.fit(X_train, y_train)\n",
        "y_pred = model_grid.predict(X_test)\n",
        "\n",
        "grid_accuracy = accuracy_score(y_test, y_pred)\n",
        "grid_accuracy"
      ],
      "metadata": {
        "colab": {
          "base_uri": "https://localhost:8080/"
        },
        "id": "Q9pbyQo0X_xj",
        "outputId": "70452308-9bbe-4e8b-edd3-079087c235ef"
      },
      "execution_count": 15,
      "outputs": [
        {
          "output_type": "execute_result",
          "data": {
            "text/plain": [
              "0.851145038167939"
            ]
          },
          "metadata": {},
          "execution_count": 15
        }
      ]
    },
    {
      "cell_type": "markdown",
      "source": [
        "Observamos que no hay una gran mejora."
      ],
      "metadata": {
        "id": "2VEuhRQjYMCy"
      }
    },
    {
      "cell_type": "code",
      "source": [
        "# Definimos los parámetros que queremos ajustar\n",
        "hyperparams = {\n",
        "    \"C\": np.logspace(-4, 4, 20),\n",
        "    \"penalty\": [\"l1\", \"l2\", \"elasticnet\", None],\n",
        "    \"solver\": [\"newton-cg\", \"lbfgs\", \"liblinear\", \"sag\", \"saga\"]\n",
        "}\n",
        "\n",
        "# Inicializamos la búsqueda aleatoria\n",
        "random_search = RandomizedSearchCV(model, hyperparams, n_iter = 100, scoring = \"accuracy\", cv = 5, random_state = 42)\n",
        "random_search"
      ],
      "metadata": {
        "colab": {
          "base_uri": "https://localhost:8080/",
          "height": 118
        },
        "id": "BtSQMtGqYSOh",
        "outputId": "1a007108-0b57-4842-c3dc-4ae1661d63cc"
      },
      "execution_count": 16,
      "outputs": [
        {
          "output_type": "execute_result",
          "data": {
            "text/plain": [
              "RandomizedSearchCV(cv=5, estimator=LogisticRegression(), n_iter=100,\n",
              "                   param_distributions={'C': array([1.00000000e-04, 2.63665090e-04, 6.95192796e-04, 1.83298071e-03,\n",
              "       4.83293024e-03, 1.27427499e-02, 3.35981829e-02, 8.85866790e-02,\n",
              "       2.33572147e-01, 6.15848211e-01, 1.62377674e+00, 4.28133240e+00,\n",
              "       1.12883789e+01, 2.97635144e+01, 7.84759970e+01, 2.06913808e+02,\n",
              "       5.45559478e+02, 1.43844989e+03, 3.79269019e+03, 1.00000000e+04]),\n",
              "                                        'penalty': ['l1', 'l2', 'elasticnet',\n",
              "                                                    None],\n",
              "                                        'solver': ['newton-cg', 'lbfgs',\n",
              "                                                   'liblinear', 'sag',\n",
              "                                                   'saga']},\n",
              "                   random_state=42, scoring='accuracy')"
            ],
            "text/html": [
              "<style>#sk-container-id-3 {color: black;background-color: white;}#sk-container-id-3 pre{padding: 0;}#sk-container-id-3 div.sk-toggleable {background-color: white;}#sk-container-id-3 label.sk-toggleable__label {cursor: pointer;display: block;width: 100%;margin-bottom: 0;padding: 0.3em;box-sizing: border-box;text-align: center;}#sk-container-id-3 label.sk-toggleable__label-arrow:before {content: \"▸\";float: left;margin-right: 0.25em;color: #696969;}#sk-container-id-3 label.sk-toggleable__label-arrow:hover:before {color: black;}#sk-container-id-3 div.sk-estimator:hover label.sk-toggleable__label-arrow:before {color: black;}#sk-container-id-3 div.sk-toggleable__content {max-height: 0;max-width: 0;overflow: hidden;text-align: left;background-color: #f0f8ff;}#sk-container-id-3 div.sk-toggleable__content pre {margin: 0.2em;color: black;border-radius: 0.25em;background-color: #f0f8ff;}#sk-container-id-3 input.sk-toggleable__control:checked~div.sk-toggleable__content {max-height: 200px;max-width: 100%;overflow: auto;}#sk-container-id-3 input.sk-toggleable__control:checked~label.sk-toggleable__label-arrow:before {content: \"▾\";}#sk-container-id-3 div.sk-estimator input.sk-toggleable__control:checked~label.sk-toggleable__label {background-color: #d4ebff;}#sk-container-id-3 div.sk-label input.sk-toggleable__control:checked~label.sk-toggleable__label {background-color: #d4ebff;}#sk-container-id-3 input.sk-hidden--visually {border: 0;clip: rect(1px 1px 1px 1px);clip: rect(1px, 1px, 1px, 1px);height: 1px;margin: -1px;overflow: hidden;padding: 0;position: absolute;width: 1px;}#sk-container-id-3 div.sk-estimator {font-family: monospace;background-color: #f0f8ff;border: 1px dotted black;border-radius: 0.25em;box-sizing: border-box;margin-bottom: 0.5em;}#sk-container-id-3 div.sk-estimator:hover {background-color: #d4ebff;}#sk-container-id-3 div.sk-parallel-item::after {content: \"\";width: 100%;border-bottom: 1px solid gray;flex-grow: 1;}#sk-container-id-3 div.sk-label:hover label.sk-toggleable__label {background-color: #d4ebff;}#sk-container-id-3 div.sk-serial::before {content: \"\";position: absolute;border-left: 1px solid gray;box-sizing: border-box;top: 0;bottom: 0;left: 50%;z-index: 0;}#sk-container-id-3 div.sk-serial {display: flex;flex-direction: column;align-items: center;background-color: white;padding-right: 0.2em;padding-left: 0.2em;position: relative;}#sk-container-id-3 div.sk-item {position: relative;z-index: 1;}#sk-container-id-3 div.sk-parallel {display: flex;align-items: stretch;justify-content: center;background-color: white;position: relative;}#sk-container-id-3 div.sk-item::before, #sk-container-id-3 div.sk-parallel-item::before {content: \"\";position: absolute;border-left: 1px solid gray;box-sizing: border-box;top: 0;bottom: 0;left: 50%;z-index: -1;}#sk-container-id-3 div.sk-parallel-item {display: flex;flex-direction: column;z-index: 1;position: relative;background-color: white;}#sk-container-id-3 div.sk-parallel-item:first-child::after {align-self: flex-end;width: 50%;}#sk-container-id-3 div.sk-parallel-item:last-child::after {align-self: flex-start;width: 50%;}#sk-container-id-3 div.sk-parallel-item:only-child::after {width: 0;}#sk-container-id-3 div.sk-dashed-wrapped {border: 1px dashed gray;margin: 0 0.4em 0.5em 0.4em;box-sizing: border-box;padding-bottom: 0.4em;background-color: white;}#sk-container-id-3 div.sk-label label {font-family: monospace;font-weight: bold;display: inline-block;line-height: 1.2em;}#sk-container-id-3 div.sk-label-container {text-align: center;}#sk-container-id-3 div.sk-container {/* jupyter's `normalize.less` sets `[hidden] { display: none; }` but bootstrap.min.css set `[hidden] { display: none !important; }` so we also need the `!important` here to be able to override the default hidden behavior on the sphinx rendered scikit-learn.org. See: https://github.com/scikit-learn/scikit-learn/issues/21755 */display: inline-block !important;position: relative;}#sk-container-id-3 div.sk-text-repr-fallback {display: none;}</style><div id=\"sk-container-id-3\" class=\"sk-top-container\"><div class=\"sk-text-repr-fallback\"><pre>RandomizedSearchCV(cv=5, estimator=LogisticRegression(), n_iter=100,\n",
              "                   param_distributions={&#x27;C&#x27;: array([1.00000000e-04, 2.63665090e-04, 6.95192796e-04, 1.83298071e-03,\n",
              "       4.83293024e-03, 1.27427499e-02, 3.35981829e-02, 8.85866790e-02,\n",
              "       2.33572147e-01, 6.15848211e-01, 1.62377674e+00, 4.28133240e+00,\n",
              "       1.12883789e+01, 2.97635144e+01, 7.84759970e+01, 2.06913808e+02,\n",
              "       5.45559478e+02, 1.43844989e+03, 3.79269019e+03, 1.00000000e+04]),\n",
              "                                        &#x27;penalty&#x27;: [&#x27;l1&#x27;, &#x27;l2&#x27;, &#x27;elasticnet&#x27;,\n",
              "                                                    None],\n",
              "                                        &#x27;solver&#x27;: [&#x27;newton-cg&#x27;, &#x27;lbfgs&#x27;,\n",
              "                                                   &#x27;liblinear&#x27;, &#x27;sag&#x27;,\n",
              "                                                   &#x27;saga&#x27;]},\n",
              "                   random_state=42, scoring=&#x27;accuracy&#x27;)</pre><b>In a Jupyter environment, please rerun this cell to show the HTML representation or trust the notebook. <br />On GitHub, the HTML representation is unable to render, please try loading this page with nbviewer.org.</b></div><div class=\"sk-container\" hidden><div class=\"sk-item sk-dashed-wrapped\"><div class=\"sk-label-container\"><div class=\"sk-label sk-toggleable\"><input class=\"sk-toggleable__control sk-hidden--visually\" id=\"sk-estimator-id-5\" type=\"checkbox\" ><label for=\"sk-estimator-id-5\" class=\"sk-toggleable__label sk-toggleable__label-arrow\">RandomizedSearchCV</label><div class=\"sk-toggleable__content\"><pre>RandomizedSearchCV(cv=5, estimator=LogisticRegression(), n_iter=100,\n",
              "                   param_distributions={&#x27;C&#x27;: array([1.00000000e-04, 2.63665090e-04, 6.95192796e-04, 1.83298071e-03,\n",
              "       4.83293024e-03, 1.27427499e-02, 3.35981829e-02, 8.85866790e-02,\n",
              "       2.33572147e-01, 6.15848211e-01, 1.62377674e+00, 4.28133240e+00,\n",
              "       1.12883789e+01, 2.97635144e+01, 7.84759970e+01, 2.06913808e+02,\n",
              "       5.45559478e+02, 1.43844989e+03, 3.79269019e+03, 1.00000000e+04]),\n",
              "                                        &#x27;penalty&#x27;: [&#x27;l1&#x27;, &#x27;l2&#x27;, &#x27;elasticnet&#x27;,\n",
              "                                                    None],\n",
              "                                        &#x27;solver&#x27;: [&#x27;newton-cg&#x27;, &#x27;lbfgs&#x27;,\n",
              "                                                   &#x27;liblinear&#x27;, &#x27;sag&#x27;,\n",
              "                                                   &#x27;saga&#x27;]},\n",
              "                   random_state=42, scoring=&#x27;accuracy&#x27;)</pre></div></div></div><div class=\"sk-parallel\"><div class=\"sk-parallel-item\"><div class=\"sk-item\"><div class=\"sk-label-container\"><div class=\"sk-label sk-toggleable\"><input class=\"sk-toggleable__control sk-hidden--visually\" id=\"sk-estimator-id-6\" type=\"checkbox\" ><label for=\"sk-estimator-id-6\" class=\"sk-toggleable__label sk-toggleable__label-arrow\">estimator: LogisticRegression</label><div class=\"sk-toggleable__content\"><pre>LogisticRegression()</pre></div></div></div><div class=\"sk-serial\"><div class=\"sk-item\"><div class=\"sk-estimator sk-toggleable\"><input class=\"sk-toggleable__control sk-hidden--visually\" id=\"sk-estimator-id-7\" type=\"checkbox\" ><label for=\"sk-estimator-id-7\" class=\"sk-toggleable__label sk-toggleable__label-arrow\">LogisticRegression</label><div class=\"sk-toggleable__content\"><pre>LogisticRegression()</pre></div></div></div></div></div></div></div></div></div></div>"
            ]
          },
          "metadata": {},
          "execution_count": 16
        }
      ]
    },
    {
      "cell_type": "code",
      "source": [
        "random_search.fit(X_train, y_train)\n",
        "\n",
        "print(f\"Mejores hiperparámetros: {random_search.best_params_}\")"
      ],
      "metadata": {
        "colab": {
          "base_uri": "https://localhost:8080/"
        },
        "id": "bfsKFP-DYfTU",
        "outputId": "9ef8f59f-9d32-4579-8dff-12bc85865e72"
      },
      "execution_count": 17,
      "outputs": [
        {
          "output_type": "stream",
          "name": "stdout",
          "text": [
            "Mejores hiperparámetros: {'solver': 'lbfgs', 'penalty': 'l2', 'C': 29.763514416313132}\n"
          ]
        }
      ]
    },
    {
      "cell_type": "markdown",
      "source": [
        "Como vemos, los parámetros optimizados utilizando esta técnica son:\n",
        "\n",
        "- `C`: 29.7635\n",
        "- `penalty`: l2\n",
        "- `solver`: lbfgs\n",
        "\n",
        "Con esta nueva hiperparametrización, reentrenamos el modelo:"
      ],
      "metadata": {
        "id": "5oqqd6iNYlsL"
      }
    },
    {
      "cell_type": "code",
      "source": [
        "model_random_search = LogisticRegression(penalty = \"l2\", C = 29.7635, solver = \"lbfgs\")\n",
        "model_random_search.fit(X_train, y_train)\n",
        "y_pred = model_random_search.predict(X_test)\n",
        "\n",
        "random_search_accuracy = accuracy_score(y_test, y_pred)\n",
        "random_search_accuracy"
      ],
      "metadata": {
        "colab": {
          "base_uri": "https://localhost:8080/"
        },
        "id": "1EFYNaHuYrpF",
        "outputId": "2977a840-f7e5-4f19-bc41-fb0bbc8a405c"
      },
      "execution_count": 18,
      "outputs": [
        {
          "output_type": "execute_result",
          "data": {
            "text/plain": [
              "0.851145038167939"
            ]
          },
          "metadata": {},
          "execution_count": 18
        }
      ]
    },
    {
      "cell_type": "markdown",
      "source": [
        "Como vemos, arroja el mismo nivel de precisión que la estrategia anterior. Esto quiere decir que con los medios e hiperparámetros que hemos intentado optimizar nos encontramos en un **máximo local**, esto es, que tendríamos que repetir la estrategia de optimización incluyendo otros hiperparámetros para mejorar los resultados del modelo, ya que solo jugando con el `penalty`, `C` y `solver` no vamos a mejorar el modelo más de lo que ya está."
      ],
      "metadata": {
        "id": "s03XDwNuYu7N"
      }
    },
    {
      "cell_type": "markdown",
      "source": [
        "## 7. Links de interés <a name=\"links\"></a>"
      ],
      "metadata": {
        "id": "4ZLwGjES0O50"
      }
    },
    {
      "cell_type": "markdown",
      "source": [
        "- [Types of Machine Learning Algorithms ](https://pdfs.semanticscholar.org/c4ae/802491724aee021f31f02327b9671cead3dc.pdf)\n",
        "- [Comprensión de la Matriz de Confusión](https://www.datasource.ai/es/data-science-articles/comprension-de-la-matriz-de-confusion-y-como-implementarla-en-python)\n",
        "- [Métricas en regresión](https://medium.com/@nicolasarrioja/m%C3%A9tricas-en-regresi%C3%B3n-5e5d4259430b)\n",
        "- [Understanding Overfitting and Underfitting in Machine Learning](https://medium.com/@brandon93.w/understanding-overfitting-and-underfitting-in-machine-learning-b699e0ed5b28#:~:text=Overfitting%20occurs%20when%20a%20model,generalize%20to%20new%2C%20unseen%20data.)\n",
        "- [¿Qué es la regresión logística?](https://aws.amazon.com/es/what-is/logistic-regression/)\n"
      ],
      "metadata": {
        "id": "R75ytPht0dY7"
      }
    }
  ]
}